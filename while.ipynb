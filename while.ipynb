{
 "cells": [
  {
   "cell_type": "code",
   "execution_count": 1,
   "id": "14028d65-d33e-4669-8fef-36fdb0b81b58",
   "metadata": {},
   "outputs": [
    {
     "name": "stdout",
     "output_type": "stream",
     "text": [
      "1\n",
      "2\n",
      "3\n",
      "4\n",
      "5\n",
      "6\n",
      "7\n",
      "8\n",
      "9\n",
      "10\n"
     ]
    }
   ],
   "source": [
    "a=1\n",
    "\n",
    "while a<=10:\n",
    "    print(a)\n",
    "    a=a+1\n",
    "    "
   ]
  },
  {
   "cell_type": "markdown",
   "id": "79da01ed-9d95-4279-bd2c-d22d99030440",
   "metadata": {},
   "source": [
    "#sum up the number till point"
   ]
  },
  {
   "cell_type": "code",
   "execution_count": 4,
   "id": "1c8e3569-d7c4-43ca-b614-a990df10b549",
   "metadata": {},
   "outputs": [
    {
     "name": "stdin",
     "output_type": "stream",
     "text": [
      "enter your limit 5\n"
     ]
    },
    {
     "data": {
      "text/plain": [
       "15"
      ]
     },
     "execution_count": 4,
     "metadata": {},
     "output_type": "execute_result"
    }
   ],
   "source": [
    "n=int(input(\"enter your limit\"))\n",
    "starting_point=0\n",
    "counter =1\n",
    "\n",
    "while counter<=n:\n",
    "    starting_point=starting_point+counter\n",
    "    counter =counter+1\n",
    "starting_point"
   ]
  },
  {
   "cell_type": "markdown",
   "id": "6c55c832-a6ef-4761-be75-b12e889e158a",
   "metadata": {},
   "source": [
    "#factorial"
   ]
  },
  {
   "cell_type": "code",
   "execution_count": 5,
   "id": "81257993-ab31-48da-ac40-5aa913682a05",
   "metadata": {},
   "outputs": [
    {
     "name": "stdin",
     "output_type": "stream",
     "text": [
      "enter your number 3\n"
     ]
    },
    {
     "data": {
      "text/plain": [
       "6"
      ]
     },
     "execution_count": 5,
     "metadata": {},
     "output_type": "execute_result"
    }
   ],
   "source": [
    "number=int(input(\"enter your number\"))\n",
    "factorial=1\n",
    "while number>0:\n",
    "    factorial=factorial*number\n",
    "    number=number-1\n",
    "factorial    \n"
   ]
  },
  {
   "cell_type": "markdown",
   "id": "9a3e4b66-2558-4fa2-9877-6abd18b71f7e",
   "metadata": {},
   "source": [
    "#FINONNACCI SERIES=SUM OF A PREVIOUS NUMBER"
   ]
  },
  {
   "cell_type": "code",
   "execution_count": 9,
   "id": "2bca6d08-80ed-434f-b38f-10d996ef18de",
   "metadata": {},
   "outputs": [
    {
     "name": "stdin",
     "output_type": "stream",
     "text": [
      "enter the number of element you are looking for 10\n"
     ]
    },
    {
     "name": "stdout",
     "output_type": "stream",
     "text": [
      "0\n",
      "1\n",
      "1\n",
      "2\n",
      "3\n",
      "5\n",
      "8\n",
      "13\n",
      "21\n",
      "34\n"
     ]
    }
   ],
   "source": [
    "number=int(input(\"enter the number of element you are looking for\"))\n",
    "a , b = 0 , 1\n",
    "counter = 0\n",
    "while counter < number:\n",
    "    print(a)\n",
    "    c = a+ b\n",
    "    a = b\n",
    "    b = c\n",
    "    counter= counter+ 1\n",
    "    "
   ]
  },
  {
   "cell_type": "markdown",
   "id": "c1c2db55-87de-41a7-bdfa-9f6e730aa868",
   "metadata": {},
   "source": [
    "#FINONNACCI SERIES IN FOR LOOP"
   ]
  },
  {
   "cell_type": "code",
   "execution_count": 19,
   "id": "6488db2a-e72b-452c-aadd-308a44a65b83",
   "metadata": {},
   "outputs": [
    {
     "name": "stdout",
     "output_type": "stream",
     "text": [
      "0\n",
      "1\n",
      "1\n",
      "2\n",
      "3\n",
      "5\n",
      "8\n",
      "13\n",
      "21\n",
      "34\n"
     ]
    }
   ],
   "source": [
    "a,b=0,1\n",
    "for i in range(10):\n",
    "    print(a)\n",
    "    c=a+b\n",
    "    a=b\n",
    "    b=c"
   ]
  },
  {
   "cell_type": "code",
   "execution_count": 20,
   "id": "04cfd553-f4a5-4fcb-8ce5-b59be4d2d815",
   "metadata": {},
   "outputs": [],
   "source": [
    "s=\"sudh\""
   ]
  },
  {
   "cell_type": "code",
   "execution_count": 21,
   "id": "522eef4d-8011-4c45-a8a3-d2185c7f56ed",
   "metadata": {},
   "outputs": [
    {
     "data": {
      "text/plain": [
       "'hdus'"
      ]
     },
     "execution_count": 21,
     "metadata": {},
     "output_type": "execute_result"
    }
   ],
   "source": [
    "s[::-1]"
   ]
  },
  {
   "cell_type": "markdown",
   "id": "80218f68-379b-4128-a591-d2575774f057",
   "metadata": {},
   "source": [
    "#STRING FOR REVERSAL"
   ]
  },
  {
   "cell_type": "code",
   "execution_count": 29,
   "id": "c991dd99-567f-4100-a4d3-aacd47c9ff72",
   "metadata": {},
   "outputs": [
    {
     "name": "stdin",
     "output_type": "stream",
     "text": [
      "enter your string for reversal sudh\n"
     ]
    },
    {
     "name": "stdout",
     "output_type": "stream",
     "text": [
      "hdus\n"
     ]
    }
   ],
   "source": [
    "word=input(\"enter your string for reversal\")\n",
    "reverse=\"\"\n",
    "length= len(word)\n",
    "while length>0:\n",
    "    reverse=reverse+word[length -1]\n",
    "    length =length-1\n",
    "print(reverse)"
   ]
  },
  {
   "cell_type": "code",
   "execution_count": 27,
   "id": "df23acd7-5b3c-4323-880f-45c52d23f9aa",
   "metadata": {
    "jupyter": {
     "source_hidden": true
    }
   },
   "outputs": [
    {
     "name": "stdout",
     "output_type": "stream",
     "text": [
      "hdus\n"
     ]
    }
   ],
   "source": [
    "reverse=\"\"\n",
    "length= len(word)\n",
    "while length>0:\n",
    "    reverse=reverse+word[length -1]\n",
    "    length =length-1\n",
    "print(reverse)"
   ]
  },
  {
   "cell_type": "markdown",
   "id": "f590afaa-a2bb-420b-968e-4490083efa28",
   "metadata": {},
   "source": [
    "#PRINT TABLE OF NUMBERS"
   ]
  },
  {
   "cell_type": "code",
   "execution_count": 30,
   "id": "76883ad4-4ea3-4390-a79f-53bff9cf42cd",
   "metadata": {},
   "outputs": [
    {
     "name": "stdin",
     "output_type": "stream",
     "text": [
      "enter your number 2\n"
     ]
    },
    {
     "name": "stdout",
     "output_type": "stream",
     "text": [
      "2 * 1 = 2\n",
      "2 * 2 = 4\n",
      "2 * 3 = 6\n",
      "2 * 4 = 8\n",
      "2 * 5 = 10\n",
      "2 * 6 = 12\n",
      "2 * 7 = 14\n",
      "2 * 8 = 16\n",
      "2 * 9 = 18\n",
      "2 * 10 = 20\n"
     ]
    }
   ],
   "source": [
    "n=int(input(\"enter your number\"))\n",
    "i=1\n",
    "\n",
    "while i<=10:\n",
    "    result=n*i\n",
    "    print(n,\"*\",i,\"=\",result)\n",
    "    i=i+1"
   ]
  },
  {
   "cell_type": "code",
   "execution_count": 31,
   "id": "3eab5923-dd9b-4180-b9b2-7d9123face48",
   "metadata": {},
   "outputs": [
    {
     "name": "stdout",
     "output_type": "stream",
     "text": [
      "1\n",
      "2\n",
      "3\n",
      "4\n",
      "this will be executed once your while will complete it succesfully\n"
     ]
    }
   ],
   "source": [
    "n=5\n",
    "i=1\n",
    "while i<n:\n",
    "    print(i)\n",
    "    i=i+1\n",
    "else:\n",
    "    print(\"this will be executed once your while will complete it succesfully\")\n",
    "    "
   ]
  },
  {
   "cell_type": "code",
   "execution_count": 33,
   "id": "41389582-b079-49e9-9808-6cab627819bb",
   "metadata": {},
   "outputs": [
    {
     "name": "stdout",
     "output_type": "stream",
     "text": [
      "1\n",
      "2\n",
      "3\n"
     ]
    }
   ],
   "source": [
    "n=5\n",
    "i=1\n",
    "while i<n:\n",
    "    print(i)\n",
    "    if i ==3:\n",
    "        break\n",
    "    i=i+1\n",
    "else:\n",
    "    print(\"this will be executed once your while will complete it succesfully\")\n",
    "    "
   ]
  },
  {
   "cell_type": "code",
   "execution_count": 34,
   "id": "c062f31f-0634-4012-9695-10661727d4a5",
   "metadata": {},
   "outputs": [
    {
     "name": "stdout",
     "output_type": "stream",
     "text": [
      "1\n",
      "2\n",
      "3\n"
     ]
    }
   ],
   "source": [
    "n=5\n",
    "i=1\n",
    "while i<n:\n",
    "    print(i)\n",
    "    if i ==3:\n",
    "        break\n",
    "    i=i+1\n",
    "else:\n",
    "    print(\"this will be executed once your while will complete it succesfully\")\n",
    "    "
   ]
  },
  {
   "cell_type": "markdown",
   "id": "a98033d2-3801-4899-a5d6-0eef4dbf2e52",
   "metadata": {},
   "source": [
    "#COMPRE"
   ]
  },
  {
   "cell_type": "code",
   "execution_count": 35,
   "id": "8ad73e5f-b499-4d2c-91d5-9dadd2e8ff65",
   "metadata": {},
   "outputs": [],
   "source": [
    "#SQUARE THE NUMBER\n",
    "l=[1,2,3,4,45,5]\n",
    "l1=[]\n",
    "for i in l:\n",
    "    l1.append(i**2)"
   ]
  },
  {
   "cell_type": "code",
   "execution_count": 36,
   "id": "29998b4c-8bd3-4264-a26c-ddaa8dabede9",
   "metadata": {},
   "outputs": [
    {
     "data": {
      "text/plain": [
       "[1, 4, 9, 16, 2025, 25]"
      ]
     },
     "execution_count": 36,
     "metadata": {},
     "output_type": "execute_result"
    }
   ],
   "source": [
    "l1"
   ]
  },
  {
   "cell_type": "code",
   "execution_count": 37,
   "id": "1649a9bd-13e3-4c65-85c8-9381c544fd10",
   "metadata": {},
   "outputs": [
    {
     "data": {
      "text/plain": [
       "[1, 2, 3, 4, 45, 5]"
      ]
     },
     "execution_count": 37,
     "metadata": {},
     "output_type": "execute_result"
    }
   ],
   "source": [
    "l"
   ]
  },
  {
   "cell_type": "code",
   "execution_count": 38,
   "id": "c3465c15-8d39-4a9b-98ce-8e88c5c9e39a",
   "metadata": {},
   "outputs": [
    {
     "data": {
      "text/plain": [
       "[1, 4, 9, 16, 2025, 25]"
      ]
     },
     "execution_count": 38,
     "metadata": {},
     "output_type": "execute_result"
    }
   ],
   "source": [
    "[i**2 for i in l]"
   ]
  },
  {
   "cell_type": "code",
   "execution_count": 46,
   "id": "2de11450-e32f-4f3f-bf0a-e7c98d519785",
   "metadata": {},
   "outputs": [
    {
     "data": {
      "text/plain": [
       "[2, 4]"
      ]
     },
     "execution_count": 46,
     "metadata": {},
     "output_type": "execute_result"
    }
   ],
   "source": [
    "[i for i in l if i%2==0]"
   ]
  },
  {
   "cell_type": "code",
   "execution_count": 47,
   "id": "04e36f6a-e2e3-4a02-a4be-0d85f4a8d207",
   "metadata": {},
   "outputs": [],
   "source": [
    "l1=[\"sudh\",\"pwskills\",\"kumar\",\"data science\"]"
   ]
  },
  {
   "cell_type": "code",
   "execution_count": 50,
   "id": "e98c0c45-612c-4601-a0ce-decfd9404fb3",
   "metadata": {},
   "outputs": [
    {
     "data": {
      "text/plain": [
       "['SUDH', 'PWSKILLS', 'KUMAR', 'DATA SCIENCE']"
      ]
     },
     "execution_count": 50,
     "metadata": {},
     "output_type": "execute_result"
    }
   ],
   "source": [
    "[i.upper() for i in l1]"
   ]
  },
  {
   "cell_type": "code",
   "execution_count": 51,
   "id": "f73f1aa9-45b0-4a0d-ae6f-0152474d66a4",
   "metadata": {},
   "outputs": [
    {
     "data": {
      "text/plain": [
       "[1, 2, 3, 4, 45, 5]"
      ]
     },
     "execution_count": 51,
     "metadata": {},
     "output_type": "execute_result"
    }
   ],
   "source": [
    "l"
   ]
  },
  {
   "cell_type": "code",
   "execution_count": 52,
   "id": "87800c20-546e-4995-b8d7-f13c78281b8a",
   "metadata": {},
   "outputs": [
    {
     "data": {
      "text/plain": [
       "[1, 4, 9, 16, 2025, 25]"
      ]
     },
     "execution_count": 52,
     "metadata": {},
     "output_type": "execute_result"
    }
   ],
   "source": [
    "list(i**2 for i in l)"
   ]
  },
  {
   "cell_type": "code",
   "execution_count": 64,
   "id": "aa11d642-6b90-48a9-aa85-5697f7678bce",
   "metadata": {},
   "outputs": [],
   "source": [
    "d={\"key1\":1,\"key2\":2,\"key3\":3,\"key4\":4}"
   ]
  },
  {
   "cell_type": "code",
   "execution_count": 65,
   "id": "654b62c6-9b32-4638-94e5-a562be49aacc",
   "metadata": {},
   "outputs": [
    {
     "data": {
      "text/plain": [
       "{'key1': 1, 'key2': 4, 'key3': 9, 'key4': 16}"
      ]
     },
     "execution_count": 65,
     "metadata": {},
     "output_type": "execute_result"
    }
   ],
   "source": [
    "{k:v**2 for k,v in d.items()}"
   ]
  },
  {
   "cell_type": "code",
   "execution_count": 66,
   "id": "1458ffde-5f6a-43a8-9be3-96378c6f1794",
   "metadata": {},
   "outputs": [
    {
     "data": {
      "text/plain": [
       "dict_items([('key1', 1), ('key2', 2), ('key3', 3), ('key4', 4)])"
      ]
     },
     "execution_count": 66,
     "metadata": {},
     "output_type": "execute_result"
    }
   ],
   "source": [
    "d.items()"
   ]
  },
  {
   "cell_type": "code",
   "execution_count": 67,
   "id": "cf9d25b9-a9bc-49fa-91da-1756e970a399",
   "metadata": {},
   "outputs": [
    {
     "data": {
      "text/plain": [
       "{'key1': 1, 'key2': 2, 'key3': 3, 'key4': 4}"
      ]
     },
     "execution_count": 67,
     "metadata": {},
     "output_type": "execute_result"
    }
   ],
   "source": [
    "d"
   ]
  },
  {
   "cell_type": "code",
   "execution_count": null,
   "id": "5c50bd9c-a94e-4f29-85eb-a9cc35c40c7f",
   "metadata": {},
   "outputs": [],
   "source": [
    "{k:vfor k,v in d.items() if v >1}"
   ]
  }
 ],
 "metadata": {
  "kernelspec": {
   "display_name": "Python 3 (ipykernel)",
   "language": "python",
   "name": "python3"
  },
  "language_info": {
   "codemirror_mode": {
    "name": "ipython",
    "version": 3
   },
   "file_extension": ".py",
   "mimetype": "text/x-python",
   "name": "python",
   "nbconvert_exporter": "python",
   "pygments_lexer": "ipython3",
   "version": "3.12.6"
  }
 },
 "nbformat": 4,
 "nbformat_minor": 5
}
