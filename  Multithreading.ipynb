{
 "cells": [
  {
   "cell_type": "code",
   "execution_count": 11,
   "id": "fba4d6ed-c761-4920-bd10-1f3e7ece89af",
   "metadata": {},
   "outputs": [],
   "source": [
    "import threading"
   ]
  },
  {
   "cell_type": "code",
   "execution_count": 12,
   "id": "e116630d-98a6-4de7-90fa-f6c82d454948",
   "metadata": {},
   "outputs": [],
   "source": [
    "def test(id):\n",
    "    print(\"prog start %d\"% id)"
   ]
  },
  {
   "cell_type": "code",
   "execution_count": 5,
   "id": "357aa5ed-c9c0-4cc3-b2e2-d5ffd47bf115",
   "metadata": {},
   "outputs": [
    {
     "name": "stdout",
     "output_type": "stream",
     "text": [
      "prog start 45\n"
     ]
    }
   ],
   "source": [
    "test(45)"
   ]
  },
  {
   "cell_type": "code",
   "execution_count": 13,
   "id": "61fddabe-ffcb-4396-80ae-0b6ba725b49b",
   "metadata": {},
   "outputs": [],
   "source": [
    "thread=[threading.Thread(target=test, args=(i,) )for i in range(10)]"
   ]
  },
  {
   "cell_type": "code",
   "execution_count": 14,
   "id": "cd43a6be-1f4b-4856-bf88-67cdf18252dd",
   "metadata": {},
   "outputs": [
    {
     "name": "stdout",
     "output_type": "stream",
     "text": [
      "prog start 0prog start 1\n",
      "\n",
      "prog start 2\n",
      "prog start 3\n",
      "prog start 4\n",
      "prog start 5\n",
      "prog start 6\n",
      "prog start 7\n",
      "prog start 8\n",
      "prog start 9\n"
     ]
    }
   ],
   "source": [
    "for t in thread:\n",
    "    t.start()"
   ]
  },
  {
   "cell_type": "code",
   "execution_count": 15,
   "id": "78b333c1-fa68-4cc3-8a1b-6bc70c7ecb61",
   "metadata": {},
   "outputs": [
    {
     "data": {
      "text/plain": [
       "[0, 1, 2, 3, 4, 5, 6, 7, 8, 9]"
      ]
     },
     "execution_count": 15,
     "metadata": {},
     "output_type": "execute_result"
    }
   ],
   "source": [
    "list(range(10))"
   ]
  },
  {
   "cell_type": "code",
   "execution_count": 16,
   "id": "89a00b0b-fd8a-4ae7-b5b2-6be192c62b3a",
   "metadata": {},
   "outputs": [
    {
     "data": {
      "text/plain": [
       "[<Thread(Thread-5 (test), stopped 12352)>,\n",
       " <Thread(Thread-6 (test), stopped 3316)>,\n",
       " <Thread(Thread-7 (test), stopped 3612)>,\n",
       " <Thread(Thread-8 (test), stopped 13780)>,\n",
       " <Thread(Thread-9 (test), stopped 1828)>,\n",
       " <Thread(Thread-10 (test), stopped 6188)>,\n",
       " <Thread(Thread-11 (test), stopped 14604)>,\n",
       " <Thread(Thread-12 (test), stopped 15832)>,\n",
       " <Thread(Thread-13 (test), stopped 10744)>,\n",
       " <Thread(Thread-14 (test), stopped 15460)>]"
      ]
     },
     "execution_count": 16,
     "metadata": {},
     "output_type": "execute_result"
    }
   ],
   "source": [
    "thread"
   ]
  },
  {
   "cell_type": "code",
   "execution_count": 17,
   "id": "618ec36b-69e4-4e05-94e2-7b7b63b8ef86",
   "metadata": {},
   "outputs": [
    {
     "data": {
      "text/plain": [
       "2262953748928"
      ]
     },
     "execution_count": 17,
     "metadata": {},
     "output_type": "execute_result"
    }
   ],
   "source": [
    "id(thread)"
   ]
  },
  {
   "cell_type": "code",
   "execution_count": 18,
   "id": "d1873e8b-98ea-434e-8545-05a404c2fe81",
   "metadata": {},
   "outputs": [],
   "source": [
    "import threading\n",
    "import urllib.request\n",
    "\n",
    "def file_downlaod(url, filename):\n",
    "    urllib.request.urlretrieve(url,filename)"
   ]
  },
  {
   "cell_type": "code",
   "execution_count": 19,
   "id": "3ff242cd-4175-4034-8f2e-5538c6fe7957",
   "metadata": {
    "scrolled": true
   },
   "outputs": [],
   "source": [
    "file_downlaod(\"https://raw.githubusercontent.com/itsfoss/text-files/master/agatha.txt \",\"test.txt\")"
   ]
  },
  {
   "cell_type": "code",
   "execution_count": 20,
   "id": "7923696e-24aa-4d51-9d23-bd426cea2d71",
   "metadata": {},
   "outputs": [],
   "source": [
    "url_list=['https://raw.githubusercontent.com/itsfoss/text-files/master/agatha.txt', 'https://raw.githubusercontent.com/itsfoss/text-files/master/sherlock.txt' ,'https://raw.githubusercontent.com/itsfoss/text-files/master/sample_log_file.txt']"
   ]
  },
  {
   "cell_type": "code",
   "execution_count": 21,
   "id": "cec3de89-bc18-4de4-96e5-a67f0e499bdb",
   "metadata": {},
   "outputs": [
    {
     "data": {
      "text/plain": [
       "['https://raw.githubusercontent.com/itsfoss/text-files/master/agatha.txt',\n",
       " 'https://raw.githubusercontent.com/itsfoss/text-files/master/sherlock.txt',\n",
       " 'https://raw.githubusercontent.com/itsfoss/text-files/master/sample_log_file.txt']"
      ]
     },
     "execution_count": 21,
     "metadata": {},
     "output_type": "execute_result"
    }
   ],
   "source": [
    "url_list"
   ]
  },
  {
   "cell_type": "code",
   "execution_count": 22,
   "id": "5d9c2d76-9d01-40d4-b5f6-f6b0d6455849",
   "metadata": {},
   "outputs": [],
   "source": [
    "file_name_list=[\"data1.txt\",\"data2.txt\",\"data3.txt\"]"
   ]
  },
  {
   "cell_type": "code",
   "execution_count": 23,
   "id": "595da077-c785-4460-96b0-320bcfb5a70b",
   "metadata": {},
   "outputs": [],
   "source": [
    "ther = [threading.Thread(target=file_downlaod,args=(url_list[i],file_name_list[i])) for i in range(len(url_list))]"
   ]
  },
  {
   "cell_type": "code",
   "execution_count": 24,
   "id": "a051c6db-7cb7-4d84-8c8e-5800ae6363a0",
   "metadata": {},
   "outputs": [
    {
     "data": {
      "text/plain": [
       "[<Thread(Thread-15 (file_downlaod), initial)>,\n",
       " <Thread(Thread-16 (file_downlaod), initial)>,\n",
       " <Thread(Thread-17 (file_downlaod), initial)>]"
      ]
     },
     "execution_count": 24,
     "metadata": {},
     "output_type": "execute_result"
    }
   ],
   "source": [
    "ther"
   ]
  },
  {
   "cell_type": "code",
   "execution_count": 25,
   "id": "4c48168c-9a0b-4880-b07c-864d970a1510",
   "metadata": {},
   "outputs": [],
   "source": [
    "for t in ther:\n",
    "    t.start()"
   ]
  },
  {
   "cell_type": "code",
   "execution_count": 26,
   "id": "b28ed096-8159-4c67-80bf-f23708a73a16",
   "metadata": {},
   "outputs": [
    {
     "data": {
      "text/plain": [
       "[<Thread(Thread-15 (file_downlaod), stopped 13356)>,\n",
       " <Thread(Thread-16 (file_downlaod), stopped 14956)>,\n",
       " <Thread(Thread-17 (file_downlaod), stopped 6116)>]"
      ]
     },
     "execution_count": 26,
     "metadata": {},
     "output_type": "execute_result"
    }
   ],
   "source": [
    "ther"
   ]
  },
  {
   "cell_type": "code",
   "execution_count": 27,
   "id": "961edbb5-c8a1-43be-8d8b-e6cffc878cb7",
   "metadata": {},
   "outputs": [],
   "source": [
    "import time"
   ]
  },
  {
   "cell_type": "code",
   "execution_count": 28,
   "id": "31f40e93-49a9-41dd-b630-fc3468065eb4",
   "metadata": {},
   "outputs": [],
   "source": [
    "def test1(id):\n",
    "    for i in range(10):\n",
    "        print(\"test1 %d printing %d %s\" %(id,i,time.ctime()))\n",
    "        time.sleep(1)"
   ]
  },
  {
   "cell_type": "code",
   "execution_count": 29,
   "id": "6f26d2c1-7a17-4209-b8aa-97efe14367ad",
   "metadata": {},
   "outputs": [
    {
     "name": "stdout",
     "output_type": "stream",
     "text": [
      "test1 1 printing 0 Sat Oct 12 17:55:56 2024\n",
      "test1 1 printing 1 Sat Oct 12 17:55:57 2024\n",
      "test1 1 printing 2 Sat Oct 12 17:55:58 2024\n",
      "test1 1 printing 3 Sat Oct 12 17:55:59 2024\n",
      "test1 1 printing 4 Sat Oct 12 17:56:00 2024\n",
      "test1 1 printing 5 Sat Oct 12 17:56:01 2024\n",
      "test1 1 printing 6 Sat Oct 12 17:56:02 2024\n",
      "test1 1 printing 7 Sat Oct 12 17:56:03 2024\n",
      "test1 1 printing 8 Sat Oct 12 17:56:04 2024\n",
      "test1 1 printing 9 Sat Oct 12 17:56:05 2024\n"
     ]
    }
   ],
   "source": [
    "test1(1)"
   ]
  },
  {
   "cell_type": "code",
   "execution_count": 30,
   "id": "42e13dfa-d3b5-4207-9302-83a676acc7e0",
   "metadata": {},
   "outputs": [],
   "source": [
    "thread1 = [threading.Thread(target=test1,args=(i,)) for i in range(3)]"
   ]
  },
  {
   "cell_type": "code",
   "execution_count": 31,
   "id": "d2d3ccb5-4048-443e-968e-b4d86900b5de",
   "metadata": {},
   "outputs": [
    {
     "name": "stdout",
     "output_type": "stream",
     "text": [
      "test1 0 printing 0 Sat Oct 12 17:56:13 2024\n",
      "test1 1 printing 0 Sat Oct 12 17:56:13 2024\n",
      "test1 2 printing 0 Sat Oct 12 17:56:13 2024\n",
      "test1 1 printing 1 Sat Oct 12 17:56:14 2024\n",
      "test1 0 printing 1 Sat Oct 12 17:56:14 2024\n",
      "test1 2 printing 1 Sat Oct 12 17:56:14 2024\n",
      "test1 1 printing 2 Sat Oct 12 17:56:15 2024\n",
      "test1 0 printing 2 Sat Oct 12 17:56:15 2024\n",
      "test1 2 printing 2 Sat Oct 12 17:56:15 2024\n",
      "test1 1 printing 3 Sat Oct 12 17:56:16 2024\n",
      "test1 2 printing 3 Sat Oct 12 17:56:16 2024\n",
      "test1 0 printing 3 Sat Oct 12 17:56:16 2024\n",
      "test1 1 printing 4 Sat Oct 12 17:56:17 2024\n",
      "test1 2 printing 4 Sat Oct 12 17:56:17 2024\n",
      "test1 0 printing 4 Sat Oct 12 17:56:17 2024\n",
      "test1 1 printing 5 Sat Oct 12 17:56:18 2024\n",
      "test1 0 printing 5 Sat Oct 12 17:56:18 2024\n",
      "test1 2 printing 5 Sat Oct 12 17:56:18 2024\n",
      "test1 1 printing 6 Sat Oct 12 17:56:19 2024\n",
      "test1 0 printing 6 Sat Oct 12 17:56:19 2024\n",
      "test1 2 printing 6 Sat Oct 12 17:56:19 2024\n",
      "test1 1 printing 7 Sat Oct 12 17:56:20 2024\n",
      "test1 2 printing 7 Sat Oct 12 17:56:20 2024\n",
      "test1 0 printing 7 Sat Oct 12 17:56:20 2024\n",
      "test1 1 printing 8 Sat Oct 12 17:56:21 2024\n",
      "test1 2 printing 8 Sat Oct 12 17:56:21 2024\n",
      "test1 0 printing 8 Sat Oct 12 17:56:21 2024\n",
      "test1 1 printing 9 Sat Oct 12 17:56:22 2024\n",
      "test1 0 printing 9 Sat Oct 12 17:56:22 2024\n",
      "test1 2 printing 9 Sat Oct 12 17:56:22 2024\n"
     ]
    }
   ],
   "source": [
    "for t in thread1:\n",
    "    t.start()"
   ]
  },
  {
   "cell_type": "code",
   "execution_count": 34,
   "id": "b24c90d1-eada-40c8-bde5-b4844333b71a",
   "metadata": {},
   "outputs": [],
   "source": [
    "shared_var = 0\n",
    "lock_var = threading.Lock()"
   ]
  },
  {
   "cell_type": "code",
   "execution_count": 47,
   "id": "f0d32334-34d8-4c94-b3de-af3495491be5",
   "metadata": {},
   "outputs": [
    {
     "name": "stderr",
     "output_type": "stream",
     "text": [
      "Exception in thread Exception in thread Thread-37 (test7):\n",
      "Traceback (most recent call last):\n",
      "  File \"C:\\Users\\DELL\\AppData\\Local\\Programs\\Python\\Python312\\Lib\\threading.py\", line 1075, in _bootstrap_inner\n",
      "Thread-36 (test7):\n",
      "Traceback (most recent call last):\n",
      "  File \"C:\\Users\\DELL\\AppData\\Local\\Programs\\Python\\Python312\\Lib\\threading.py\", line 1075, in _bootstrap_inner\n",
      "Exception in thread Thread-38 (test7):\n",
      "Traceback (most recent call last):\n",
      "  File \"C:\\Users\\DELL\\AppData\\Local\\Programs\\Python\\Python312\\Lib\\threading.py\", line 1075, in _bootstrap_inner\n",
      "    self.run()\n",
      "  File \"C:\\Users\\DELL\\AppData\\Local\\Programs\\Python\\Python312\\Lib\\site-packages\\ipykernel\\ipkernel.py\", line 766, in run_closure\n",
      "    self.run()\n",
      "  File \"C:\\Users\\DELL\\AppData\\Local\\Programs\\Python\\Python312\\Lib\\site-packages\\ipykernel\\ipkernel.py\", line 766, in run_closure\n",
      "    _threading_Thread_run(self)\n",
      "  File \"C:\\Users\\DELL\\AppData\\Local\\Programs\\Python\\Python312\\Lib\\threading.py\", line 1012, in run\n",
      "    self.run()\n",
      "  File \"C:\\Users\\DELL\\AppData\\Local\\Programs\\Python\\Python312\\Lib\\site-packages\\ipykernel\\ipkernel.py\", line 766, in run_closure\n",
      "    _threading_Thread_run(self)\n",
      "  File \"C:\\Users\\DELL\\AppData\\Local\\Programs\\Python\\Python312\\Lib\\threading.py\", line 1012, in run\n",
      "    self._target(*self._args, **self._kwargs)\n",
      "  File \"C:\\Users\\DELL\\AppData\\Local\\Temp\\ipykernel_2724\\1871795545.py\", line 5, in test7\n",
      "    _threading_Thread_run(self)\n",
      "  File \"C:\\Users\\DELL\\AppData\\Local\\Programs\\Python\\Python312\\Lib\\threading.py\", line 1012, in run\n",
      "    self._target(*self._args, **self._kwargs)\n",
      "  File \"C:\\Users\\DELL\\AppData\\Local\\Temp\\ipykernel_2724\\1871795545.py\", line 5, in test7\n",
      "NameError: name 'lock_variable' is not defined\n",
      "    self._target(*self._args, **self._kwargs)\n",
      "  File \"C:\\Users\\DELL\\AppData\\Local\\Temp\\ipykernel_2724\\1871795545.py\", line 5, in test7\n",
      "NameError: name 'lock_variable' is not defined\n",
      "NameError: name 'lock_variable' is not defined\n"
     ]
    }
   ],
   "source": [
    "shared_var = 0\n",
    "lock_var = threading.Lock()\n",
    "def test7(id):\n",
    "    global shared_var\n",
    "    with lock_variable:\n",
    "        shared_var =shard_var+1\n",
    "        print(\"test7 id is %d has increase the variable by %d\" %(id,shared_var) )\n",
    "ther3=[threading.Thread(target=test7, args=(id,)) for i in range(3)]\n",
    "for t in ther3:\n",
    "    t.start()"
   ]
  },
  {
   "cell_type": "code",
   "execution_count": 41,
   "id": "95e2ef83-8b81-4598-99d2-65ea5e66cb11",
   "metadata": {},
   "outputs": [],
   "source": [
    "ther3=[threading.Thread(target=test7, args=(id,)) for i in range(3)]"
   ]
  },
  {
   "cell_type": "code",
   "execution_count": 42,
   "id": "7b558b4a-0806-441d-b205-5656929b2f01",
   "metadata": {},
   "outputs": [
    {
     "data": {
      "text/plain": [
       "[<Thread(Thread-21 (test7), initial)>,\n",
       " <Thread(Thread-22 (test7), initial)>,\n",
       " <Thread(Thread-23 (test7), initial)>]"
      ]
     },
     "execution_count": 42,
     "metadata": {},
     "output_type": "execute_result"
    }
   ],
   "source": [
    "ther3"
   ]
  },
  {
   "cell_type": "code",
   "execution_count": null,
   "id": "5121275a-7f72-43ce-b10f-d682eeb88cf0",
   "metadata": {},
   "outputs": [],
   "source": [
    "for t in ther3"
   ]
  }
 ],
 "metadata": {
  "kernelspec": {
   "display_name": "Python 3 (ipykernel)",
   "language": "python",
   "name": "python3"
  },
  "language_info": {
   "codemirror_mode": {
    "name": "ipython",
    "version": 3
   },
   "file_extension": ".py",
   "mimetype": "text/x-python",
   "name": "python",
   "nbconvert_exporter": "python",
   "pygments_lexer": "ipython3",
   "version": "3.12.6"
  }
 },
 "nbformat": 4,
 "nbformat_minor": 5
}
