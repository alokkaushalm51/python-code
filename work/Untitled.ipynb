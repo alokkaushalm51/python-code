{
 "cells": [
  {
   "cell_type": "code",
   "execution_count": 1,
   "id": "2486cbac-adda-4c89-9068-816ed85da59f",
   "metadata": {},
   "outputs": [],
   "source": [
    "f=open(\"test.txt\",'w')"
   ]
  },
  {
   "cell_type": "code",
   "execution_count": 2,
   "id": "4c7e33ca-28ac-459e-bdaa-f77781028a78",
   "metadata": {},
   "outputs": [
    {
     "data": {
      "text/plain": [
       "'C:\\\\Users\\\\DELL\\\\Desktop\\\\jupyter\\\\work'"
      ]
     },
     "execution_count": 2,
     "metadata": {},
     "output_type": "execute_result"
    }
   ],
   "source": [
    "pwd"
   ]
  },
  {
   "cell_type": "code",
   "execution_count": 3,
   "id": "c7c5b477-00ce-4277-b9a5-900910b56a8d",
   "metadata": {},
   "outputs": [
    {
     "name": "stdout",
     "output_type": "stream",
     "text": [
      " Volume in drive C has no label.\n",
      " Volume Serial Number is 3839-79FF\n",
      "\n",
      " Directory of C:\\Users\\DELL\\Desktop\\jupyter\\work\n",
      "\n",
      "07-10-2024  11:53    <DIR>          .\n",
      "07-10-2024  11:53    <DIR>          ..\n",
      "07-10-2024  11:52    <DIR>          .ipynb_checkpoints\n",
      "07-10-2024  11:53                 0 test.txt\n",
      "07-10-2024  11:52               337 Untitled.ipynb\n",
      "06-10-2024  18:43                 0 untitled.txt\n",
      "               3 File(s)            337 bytes\n",
      "               3 Dir(s)  150,637,969,408 bytes free\n"
     ]
    }
   ],
   "source": [
    "ls"
   ]
  },
  {
   "cell_type": "code",
   "execution_count": 5,
   "id": "124ce494-0a3a-4353-a1f4-1c2a42ac94ae",
   "metadata": {},
   "outputs": [
    {
     "name": "stdout",
     "output_type": "stream",
     "text": [
      " Volume in drive C has no label.\n",
      " Volume Serial Number is 3839-79FF\n",
      "\n",
      " Directory of C:\\Users\\DELL\\Desktop\\jupyter\\work\n",
      "\n",
      "07-10-2024  12:01    <DIR>          .\n",
      "07-10-2024  12:01    <DIR>          ..\n",
      "07-10-2024  11:52    <DIR>          .ipynb_checkpoints\n",
      "07-10-2024  11:53                 0 test.txt\n",
      "07-10-2024  12:01             2,984 Untitled.ipynb\n",
      "06-10-2024  18:43                 0 untitled.txt\n",
      "               3 File(s)          2,984 bytes\n",
      "               3 Dir(s)  150,627,442,688 bytes free\n"
     ]
    }
   ],
   "source": [
    "ls"
   ]
  },
  {
   "cell_type": "raw",
   "id": "d7bcf146-ba7a-4fc1-85c8-738abeb360d9",
   "metadata": {},
   "source": [
    "f.write(\"this is my first file to write\")"
   ]
  },
  {
   "cell_type": "code",
   "execution_count": 6,
   "id": "1e45a305-dd2f-4716-af5b-edc677cb5e6e",
   "metadata": {},
   "outputs": [
    {
     "ename": "NameError",
     "evalue": "name 'f' is not defined",
     "output_type": "error",
     "traceback": [
      "\u001b[1;31m---------------------------------------------------------------------------\u001b[0m",
      "\u001b[1;31mNameError\u001b[0m                                 Traceback (most recent call last)",
      "Cell \u001b[1;32mIn[6], line 1\u001b[0m\n\u001b[1;32m----> 1\u001b[0m \u001b[43mf\u001b[49m\u001b[38;5;241m.\u001b[39mclose\n",
      "\u001b[1;31mNameError\u001b[0m: name 'f' is not defined"
     ]
    }
   ],
   "source": [
    "f.close"
   ]
  },
  {
   "cell_type": "code",
   "execution_count": 7,
   "id": "d78a8384-74af-4d97-bd57-84ac515395a8",
   "metadata": {},
   "outputs": [],
   "source": [
    "f=open(\"test.txt\",'w')"
   ]
  },
  {
   "cell_type": "code",
   "execution_count": 8,
   "id": "7682b9f4-9e18-48f5-818e-cd4982ee12f8",
   "metadata": {},
   "outputs": [
    {
     "data": {
      "text/plain": [
       "15"
      ]
     },
     "execution_count": 8,
     "metadata": {},
     "output_type": "execute_result"
    }
   ],
   "source": [
    "f.write(\"this is my file\")"
   ]
  },
  {
   "cell_type": "code",
   "execution_count": 10,
   "id": "296ef8bf-cf68-4518-8e65-d002da923655",
   "metadata": {},
   "outputs": [],
   "source": [
    "f.close()"
   ]
  },
  {
   "cell_type": "code",
   "execution_count": 13,
   "id": "2995c15c-aa7e-45d3-a49f-a51dbf7ebc0e",
   "metadata": {},
   "outputs": [],
   "source": [
    "f=open(\"test.txt\",'a')"
   ]
  },
  {
   "cell_type": "code",
   "execution_count": 16,
   "id": "446f516f-3e11-41e4-b34d-7f69d73d63e4",
   "metadata": {},
   "outputs": [
    {
     "ename": "SyntaxError",
     "evalue": "unterminated string literal (detected at line 1) (3699851934.py, line 1)",
     "output_type": "error",
     "traceback": [
      "\u001b[1;36m  Cell \u001b[1;32mIn[16], line 1\u001b[1;36m\u001b[0m\n\u001b[1;33m    f.write(\"Special judge Vishal Gogne granted bail to the accused on a personal bond  noting that they were not arrested during the investigation.\u001b[0m\n\u001b[1;37m            ^\u001b[0m\n\u001b[1;31mSyntaxError\u001b[0m\u001b[1;31m:\u001b[0m unterminated string literal (detected at line 1)\n"
     ]
    }
   ],
   "source": [
    "f.write(\"Special judge Vishal Gogne granted bail to the accused on a personal bond  noting that they were not arrested during the investigation.\n",
    "\n",
    "\")"
   ]
  },
  {
   "cell_type": "code",
   "execution_count": 17,
   "id": "bb50c5d2-bf87-4e58-95d0-5de1c58e0ca9",
   "metadata": {},
   "outputs": [],
   "source": [
    "f.close()"
   ]
  },
  {
   "cell_type": "code",
   "execution_count": null,
   "id": "a5e4479d-1bec-47a6-afd7-b7e144d2c027",
   "metadata": {},
   "outputs": [],
   "source": [
    "data1"
   ]
  }
 ],
 "metadata": {
  "kernelspec": {
   "display_name": "Python 3 (ipykernel)",
   "language": "python",
   "name": "python3"
  },
  "language_info": {
   "codemirror_mode": {
    "name": "ipython",
    "version": 3
   },
   "file_extension": ".py",
   "mimetype": "text/x-python",
   "name": "python",
   "nbconvert_exporter": "python",
   "pygments_lexer": "ipython3",
   "version": "3.12.6"
  }
 },
 "nbformat": 4,
 "nbformat_minor": 5
}
