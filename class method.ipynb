{
 "cells": [
  {
   "cell_type": "code",
   "execution_count": 8,
   "id": "48f5b8e5-b128-4c85-a0a7-36df6d3cc18d",
   "metadata": {},
   "outputs": [],
   "source": [
    "class pwskills : \n",
    "    \n",
    "     def __init__(self,name,email):\n",
    "         \n",
    "         self.name=name\n",
    "         self.email=email \n",
    "        \n",
    "     def students_details(self):\n",
    "         print(self.name,self.email)\n",
    "    "
   ]
  },
  {
   "cell_type": "code",
   "execution_count": 9,
   "id": "875c5069-57c0-4c4e-8f5c-a7e15d7f2f4f",
   "metadata": {},
   "outputs": [],
   "source": [
    "pw = pwskills(\"mohan\",\"mohan@gmail.com\")"
   ]
  },
  {
   "cell_type": "code",
   "execution_count": 10,
   "id": "52880d3a-8550-4c04-9e39-57088d872b4c",
   "metadata": {},
   "outputs": [
    {
     "data": {
      "text/plain": [
       "'mohan'"
      ]
     },
     "execution_count": 10,
     "metadata": {},
     "output_type": "execute_result"
    }
   ],
   "source": [
    "pw.name"
   ]
  },
  {
   "cell_type": "code",
   "execution_count": 11,
   "id": "7265db3f-f97d-4af3-b7a1-f3281ee338ae",
   "metadata": {},
   "outputs": [
    {
     "data": {
      "text/plain": [
       "'mohan@gmail.com'"
      ]
     },
     "execution_count": 11,
     "metadata": {},
     "output_type": "execute_result"
    }
   ],
   "source": [
    "pw.email"
   ]
  },
  {
   "cell_type": "code",
   "execution_count": 12,
   "id": "c003b2e4-2ac5-4fb1-b82f-49e820e39e6b",
   "metadata": {},
   "outputs": [
    {
     "name": "stdout",
     "output_type": "stream",
     "text": [
      "mohan mohan@gmail.com\n"
     ]
    }
   ],
   "source": [
    "pw.students_details()"
   ]
  },
  {
   "cell_type": "code",
   "execution_count": 1,
   "id": "6f20c84d-e1df-40e0-8b63-ae07dd005820",
   "metadata": {},
   "outputs": [],
   "source": [
    "class pwskills1 :\n",
    "    \n",
    "     def __init__(self,name,email):\n",
    "         \n",
    "         self.name=name\n",
    "         self.email=email\n",
    "         \n",
    "     @classmethod   \n",
    "     def details(cls,name,email):\n",
    "         return cls(name,email)\n",
    "    \n",
    "     def students_details(self):\n",
    "         print(self.name,self.email)\n",
    "    "
   ]
  },
  {
   "cell_type": "code",
   "execution_count": 2,
   "id": "a0375a96-9930-4141-b166-c3de2807cab3",
   "metadata": {},
   "outputs": [],
   "source": [
    "pw1=pwskills1.details(\"sudh\" , \"sudh@gmail.com\")"
   ]
  },
  {
   "cell_type": "code",
   "execution_count": 3,
   "id": "6ec50fc3-4fe1-410c-9caf-e9c596d1b81f",
   "metadata": {},
   "outputs": [
    {
     "data": {
      "text/plain": [
       "'sudh'"
      ]
     },
     "execution_count": 3,
     "metadata": {},
     "output_type": "execute_result"
    }
   ],
   "source": [
    "pw1.name"
   ]
  },
  {
   "cell_type": "code",
   "execution_count": 5,
   "id": "7dbadc2f-8935-476a-a798-5338f5fd965a",
   "metadata": {},
   "outputs": [
    {
     "name": "stdout",
     "output_type": "stream",
     "text": [
      "sudh sudh@gmail.com\n"
     ]
    }
   ],
   "source": [
    "pw1.students_details()"
   ]
  },
  {
   "cell_type": "code",
   "execution_count": 5,
   "id": "c7ac1f76-dec8-4771-b777-205cc74937ed",
   "metadata": {},
   "outputs": [],
   "source": [
    "class pwskills2 :\n",
    "\n",
    "     mobile_num=912345566\n",
    "    \n",
    "     def __init__(self,name,email):\n",
    "         \n",
    "         self.name=name\n",
    "         self.email=email\n",
    "     @classmethod    \n",
    "     def change_number(cls, mobile):\n",
    "         pwskills2.mobile_num=mobile\n",
    "\n",
    "     \n",
    "     @classmethod   \n",
    "     def details(cls,name,email):\n",
    "         return cls(name,email)\n",
    "    \n",
    "     def students_details(self):\n",
    "         print(self.name,self.email)"
   ]
  },
  {
   "cell_type": "code",
   "execution_count": 6,
   "id": "10f77753-384d-49ed-b169-ef9cf66f2061",
   "metadata": {},
   "outputs": [
    {
     "ename": "AttributeError",
     "evalue": "type object 'pwskills2' has no attribute 'chnage_number'",
     "output_type": "error",
     "traceback": [
      "\u001b[1;31m---------------------------------------------------------------------------\u001b[0m",
      "\u001b[1;31mAttributeError\u001b[0m                            Traceback (most recent call last)",
      "Cell \u001b[1;32mIn[6], line 1\u001b[0m\n\u001b[1;32m----> 1\u001b[0m \u001b[43mpwskills2\u001b[49m\u001b[38;5;241;43m.\u001b[39;49m\u001b[43mchnage_number\u001b[49m(\u001b[38;5;241m98865435\u001b[39m)\n",
      "\u001b[1;31mAttributeError\u001b[0m: type object 'pwskills2' has no attribute 'chnage_number'"
     ]
    }
   ],
   "source": [
    "pwskills2.chnage_number(98865435)"
   ]
  },
  {
   "cell_type": "code",
   "execution_count": 7,
   "id": "d102b03a-1740-4853-9298-16c061b42cb5",
   "metadata": {},
   "outputs": [
    {
     "data": {
      "text/plain": [
       "912345566"
      ]
     },
     "execution_count": 7,
     "metadata": {},
     "output_type": "execute_result"
    }
   ],
   "source": [
    "pwskills2.mobile_num"
   ]
  },
  {
   "cell_type": "code",
   "execution_count": 18,
   "id": "bc80f276-d314-443e-b7c9-162a0c2bf10e",
   "metadata": {},
   "outputs": [],
   "source": [
    "class pwskills2 :\n",
    "\n",
    "     mobile_num=912345566\n",
    "    \n",
    "     def __init__(self,name,email):\n",
    "         \n",
    "         self.name=name\n",
    "         self.email=email\n",
    "         \n",
    "     @classmethod    \n",
    "     def change_number(cls, mobile):\n",
    "         pwskills2.mobile_num=mobile\n",
    "\n",
    "     \n",
    "     @classmethod   \n",
    "     def details(cls,name,email):\n",
    "         return cls(name,email)\n",
    "    \n",
    "     def students_details(self):\n",
    "         print(self.name,self.email,pwskills2.mobile_num)"
   ]
  },
  {
   "cell_type": "code",
   "execution_count": 23,
   "id": "cf5030c4-f9f4-4a30-a12d-4e90362b33ea",
   "metadata": {},
   "outputs": [],
   "source": [
    "pw=pwskills2.details(\"rohan\",\"rohan@gmail.com\")"
   ]
  },
  {
   "cell_type": "code",
   "execution_count": 24,
   "id": "eb07d14a-fe4c-4a2e-a4b4-89abcdd976f2",
   "metadata": {},
   "outputs": [
    {
     "name": "stdout",
     "output_type": "stream",
     "text": [
      "rohan rohan@gmail.com 912345566\n"
     ]
    }
   ],
   "source": [
    "pw.students_details()"
   ]
  },
  {
   "cell_type": "code",
   "execution_count": 21,
   "id": "d3718796-de44-4ea6-9115-b8bc550b1aaf",
   "metadata": {},
   "outputs": [],
   "source": [
    "pw_obj=pwskills2(\"sudh\",\"sudh@gmail.com\")"
   ]
  },
  {
   "cell_type": "code",
   "execution_count": 22,
   "id": "1c956507-b4a1-41db-a423-ae41f51a6ec3",
   "metadata": {},
   "outputs": [
    {
     "name": "stdout",
     "output_type": "stream",
     "text": [
      "sudh sudh@gmail.com 912345566\n"
     ]
    }
   ],
   "source": [
    "pw_obj.students_details()"
   ]
  },
  {
   "cell_type": "code",
   "execution_count": 15,
   "id": "9b71e5d9-7a2f-4405-a7ba-f9a3f3cd05cf",
   "metadata": {},
   "outputs": [],
   "source": [
    "pwskills2.change_number(345678)"
   ]
  },
  {
   "cell_type": "code",
   "execution_count": 16,
   "id": "57f61b85-337d-4264-953e-409bfef0f2d4",
   "metadata": {},
   "outputs": [
    {
     "data": {
      "text/plain": [
       "345678"
      ]
     },
     "execution_count": 16,
     "metadata": {},
     "output_type": "execute_result"
    }
   ],
   "source": [
    "pwskills2.mobile_num"
   ]
  },
  {
   "cell_type": "code",
   "execution_count": 25,
   "id": "dad831f6-58dd-471a-84c0-507ba716a9e6",
   "metadata": {},
   "outputs": [],
   "source": [
    "class pwskills2 :\n",
    "\n",
    "     mobile_num=912345566\n",
    "    \n",
    "     def __init__(self,name,email):\n",
    "         \n",
    "         self.name=name\n",
    "         self.email=email\n",
    "         \n",
    "     @classmethod    \n",
    "     def change_number(cls, mobile):\n",
    "         pwskills2.mobile_num=mobile\n",
    "\n",
    "     \n",
    "     @classmethod   \n",
    "     def details(cls,name,email):\n",
    "         return cls(name,email)\n",
    "    \n",
    "     def students_details(self):\n",
    "         print(self.name,self.email,pwskills2.mobile_num)"
   ]
  },
  {
   "cell_type": "code",
   "execution_count": 26,
   "id": "3125f29c-864e-4b60-8fe3-0aeaf9b74b5b",
   "metadata": {},
   "outputs": [],
   "source": [
    "#add the function in the class\n",
    "def course_details(cls,course_name):\n",
    "    print(\"course name is\",course_name)"
   ]
  },
  {
   "cell_type": "code",
   "execution_count": 27,
   "id": "3d7f594b-6e95-40e9-b3c3-411baae1aa1d",
   "metadata": {},
   "outputs": [],
   "source": [
    "pwskills2.course_details= classmethod(course_details)"
   ]
  },
  {
   "cell_type": "code",
   "execution_count": 29,
   "id": "d7d65866-6c00-4044-9ae1-5079bce18761",
   "metadata": {},
   "outputs": [
    {
     "name": "stdout",
     "output_type": "stream",
     "text": [
      "course name is data science masters\n"
     ]
    }
   ],
   "source": [
    "pwskills2.course_details(\"data science masters\")"
   ]
  },
  {
   "cell_type": "code",
   "execution_count": 30,
   "id": "c80c334d-678e-4e78-9013-2c33d61ffe4f",
   "metadata": {},
   "outputs": [],
   "source": [
    "def mentor(cls,list_of_mentor):\n",
    "    print(list_of_mentor)"
   ]
  },
  {
   "cell_type": "code",
   "execution_count": 31,
   "id": "9123cd10-cb6e-492c-a0f2-4aeeb2278ffa",
   "metadata": {},
   "outputs": [],
   "source": [
    "pwskills2.mentor=classmethod(mentor)"
   ]
  },
  {
   "cell_type": "code",
   "execution_count": 32,
   "id": "fe92fa4e-110b-4d6e-ac58-6c94f9240026",
   "metadata": {},
   "outputs": [
    {
     "name": "stdout",
     "output_type": "stream",
     "text": [
      "['sudh', 'krish naik']\n"
     ]
    }
   ],
   "source": [
    "pwskills2.mentor([\"sudh\",\"krish naik\"])"
   ]
  },
  {
   "cell_type": "code",
   "execution_count": 33,
   "id": "ae88075b-dcc8-4965-afa8-5f4c116f39ca",
   "metadata": {},
   "outputs": [],
   "source": [
    "class pwskills4 :\n",
    "\n",
    "     mobile_num=912345566\n",
    "    \n",
    "     def __init__(self,name,email):\n",
    "         \n",
    "         self.name=name\n",
    "         self.email=email\n",
    "         \n",
    "     @classmethod    \n",
    "     def change_number(cls, mobile):\n",
    "         pwskills2.mobile_num=mobile\n",
    "\n",
    "     \n",
    "     @classmethod   \n",
    "     def details(cls,name,email):\n",
    "         return cls(name,email)\n",
    "    \n",
    "     def students_details(self):\n",
    "         print(self.name,self.email,pwskills2.mobile_num)"
   ]
  },
  {
   "cell_type": "code",
   "execution_count": 34,
   "id": "0ae5366f-0171-4649-b9ab-af7f93fd60fc",
   "metadata": {},
   "outputs": [],
   "source": [
    "#delete function\n",
    "del pwskills4.change_number"
   ]
  },
  {
   "cell_type": "code",
   "execution_count": 36,
   "id": "a189d67d-b09c-4531-ad3d-e2eeef5a59ee",
   "metadata": {},
   "outputs": [
    {
     "ename": "AttributeError",
     "evalue": "type object 'pwskills4' has no attribute 'change_number'",
     "output_type": "error",
     "traceback": [
      "\u001b[1;31m---------------------------------------------------------------------------\u001b[0m",
      "\u001b[1;31mAttributeError\u001b[0m                            Traceback (most recent call last)",
      "Cell \u001b[1;32mIn[36], line 1\u001b[0m\n\u001b[1;32m----> 1\u001b[0m \u001b[43mpwskills4\u001b[49m\u001b[38;5;241;43m.\u001b[39;49m\u001b[43mchange_number\u001b[49m(\u001b[38;5;241m34567098\u001b[39m)\n",
      "\u001b[1;31mAttributeError\u001b[0m: type object 'pwskills4' has no attribute 'change_number'"
     ]
    }
   ],
   "source": [
    "pwskills4.change_number(34567098)"
   ]
  },
  {
   "cell_type": "code",
   "execution_count": 37,
   "id": "0db7ceea-596b-4c59-bbd6-63cf216e2b8a",
   "metadata": {},
   "outputs": [],
   "source": [
    "delattr(pwskills4,\"details\")"
   ]
  },
  {
   "cell_type": "code",
   "execution_count": null,
   "id": "66d09701-0a64-4133-811a-ef868ed1f606",
   "metadata": {},
   "outputs": [],
   "source": [
    "delattr"
   ]
  }
 ],
 "metadata": {
  "kernelspec": {
   "display_name": "Python 3 (ipykernel)",
   "language": "python",
   "name": "python3"
  },
  "language_info": {
   "codemirror_mode": {
    "name": "ipython",
    "version": 3
   },
   "file_extension": ".py",
   "mimetype": "text/x-python",
   "name": "python",
   "nbconvert_exporter": "python",
   "pygments_lexer": "ipython3",
   "version": "3.12.6"
  }
 },
 "nbformat": 4,
 "nbformat_minor": 5
}
