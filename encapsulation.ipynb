{
 "cells": [
  {
   "cell_type": "markdown",
   "id": "a1952bc2-cdcf-4a70-9dad-a0177c0a071b",
   "metadata": {},
   "source": [
    " encapsulation = variables are not show to the user, directly are not access/show to the user"
   ]
  },
  {
   "cell_type": "code",
   "execution_count": 1,
   "id": "55e00952-ae41-4b02-96bd-099b918d6948",
   "metadata": {},
   "outputs": [],
   "source": [
    "class test:\n",
    "    def __init__(self, a,b):\n",
    "        self.a=a\n",
    "        self.b=b"
   ]
  },
  {
   "cell_type": "code",
   "execution_count": 2,
   "id": "8e297e2c-4dd5-4445-b3db-a8efc73ebcc0",
   "metadata": {},
   "outputs": [],
   "source": [
    "t=test(23,34)"
   ]
  },
  {
   "cell_type": "code",
   "execution_count": 5,
   "id": "c8cfad39-ad23-40fc-946a-e42c0261df6e",
   "metadata": {},
   "outputs": [],
   "source": [
    "t.a=23445"
   ]
  },
  {
   "cell_type": "code",
   "execution_count": 6,
   "id": "2508aa4f-fdb2-4f23-b094-929bdc8d3e80",
   "metadata": {},
   "outputs": [
    {
     "data": {
      "text/plain": [
       "23445"
      ]
     },
     "execution_count": 6,
     "metadata": {},
     "output_type": "execute_result"
    }
   ],
   "source": [
    "t.a"
   ]
  },
  {
   "cell_type": "code",
   "execution_count": 21,
   "id": "7e53c2b6-65e1-4b6a-8f96-ba648b1b7e33",
   "metadata": {},
   "outputs": [],
   "source": [
    "class car:\n",
    "    def __init__(self ,year,make,model,speed):\n",
    "        self.__year=year\n",
    "        self.__make=make\n",
    "        self.__model=model\n",
    "        self.__speed=0\n",
    "\n",
    "    def set_speed(self,speed) :\n",
    "       self.__speed=0 if speed < 0 else speed\n",
    "\n",
    "    def get_speed(self):\n",
    "        return self.__speed"
   ]
  },
  {
   "cell_type": "code",
   "execution_count": 22,
   "id": "1fa23f60-8d23-40fd-b3e1-9ef7967bdc50",
   "metadata": {},
   "outputs": [],
   "source": [
    "c=car(2021,\"toyata\",\"innova\",12)"
   ]
  },
  {
   "cell_type": "code",
   "execution_count": 23,
   "id": "b55d85ea-4437-4cb7-828e-5b08ed033d94",
   "metadata": {},
   "outputs": [
    {
     "data": {
      "text/plain": [
       "2021"
      ]
     },
     "execution_count": 23,
     "metadata": {},
     "output_type": "execute_result"
    }
   ],
   "source": [
    "c._car__year"
   ]
  },
  {
   "cell_type": "code",
   "execution_count": 24,
   "id": "1beabfc1-7d77-4d0e-ac25-17c1454f0c67",
   "metadata": {},
   "outputs": [],
   "source": [
    "c.set_speed(-2345)"
   ]
  },
  {
   "cell_type": "code",
   "execution_count": 26,
   "id": "472dc40c-d73c-4a25-8421-133a53cf21d4",
   "metadata": {},
   "outputs": [
    {
     "data": {
      "text/plain": [
       "0"
      ]
     },
     "execution_count": 26,
     "metadata": {},
     "output_type": "execute_result"
    }
   ],
   "source": [
    "c.get_speed()"
   ]
  },
  {
   "cell_type": "code",
   "execution_count": 27,
   "id": "70a04c8e-6453-47dd-a76e-68b1cf30d30b",
   "metadata": {},
   "outputs": [],
   "source": [
    "c.set_speed(234)"
   ]
  },
  {
   "cell_type": "code",
   "execution_count": 28,
   "id": "53c60923-5775-4df9-bcd0-dcb3e353048d",
   "metadata": {},
   "outputs": [
    {
     "data": {
      "text/plain": [
       "234"
      ]
     },
     "execution_count": 28,
     "metadata": {},
     "output_type": "execute_result"
    }
   ],
   "source": [
    "c.get_speed()"
   ]
  },
  {
   "cell_type": "code",
   "execution_count": 31,
   "id": "c769c17a-650c-457c-b72c-b8dcd382bbfc",
   "metadata": {},
   "outputs": [],
   "source": [
    "class bank_account:\n",
    "    def __init__(self,balance):\n",
    "        self.__balance=balance\n",
    "\n",
    "    def deposit(self,amount):\n",
    "        self.__balance=self.__balance+amount\n",
    "    def withdraw(self,amount):\n",
    "        if self.__balance>=amount:\n",
    "            self.__balance=self.__balance-amount\n",
    "            return True\n",
    "        else:\n",
    "            return False\n",
    "    def get_balance(self):\n",
    "         return self.__balance\n",
    "        "
   ]
  },
  {
   "cell_type": "code",
   "execution_count": 33,
   "id": "d24243bc-d460-436c-bc9e-6546f9b4ae4d",
   "metadata": {},
   "outputs": [],
   "source": [
    "sudh=bank_account(1000)"
   ]
  },
  {
   "cell_type": "code",
   "execution_count": 34,
   "id": "952fb73b-7e4b-4473-8a10-6fdce1a02702",
   "metadata": {},
   "outputs": [
    {
     "data": {
      "text/plain": [
       "1000"
      ]
     },
     "execution_count": 34,
     "metadata": {},
     "output_type": "execute_result"
    }
   ],
   "source": [
    "sudh.get_balance()"
   ]
  },
  {
   "cell_type": "code",
   "execution_count": 35,
   "id": "11a83e2a-cc0a-4735-9a2f-5032b892f64b",
   "metadata": {},
   "outputs": [],
   "source": [
    "sudh.deposit(5000)"
   ]
  },
  {
   "cell_type": "code",
   "execution_count": 36,
   "id": "b56956c8-c0e4-4db8-ba9d-7ed90f7ce667",
   "metadata": {},
   "outputs": [
    {
     "data": {
      "text/plain": [
       "6000"
      ]
     },
     "execution_count": 36,
     "metadata": {},
     "output_type": "execute_result"
    }
   ],
   "source": [
    "sudh.get_balance()"
   ]
  },
  {
   "cell_type": "code",
   "execution_count": 37,
   "id": "214ff4c4-a858-4a98-8463-5eb001fb9e9e",
   "metadata": {},
   "outputs": [],
   "source": [
    "sudh.deposit(1000)"
   ]
  },
  {
   "cell_type": "code",
   "execution_count": 38,
   "id": "1cbccdd8-437b-4b4a-ab96-ae0411a609bb",
   "metadata": {},
   "outputs": [
    {
     "data": {
      "text/plain": [
       "7000"
      ]
     },
     "execution_count": 38,
     "metadata": {},
     "output_type": "execute_result"
    }
   ],
   "source": [
    "sudh.get_balance()"
   ]
  },
  {
   "cell_type": "code",
   "execution_count": 39,
   "id": "34710da9-ef69-4fbb-a357-878636031b46",
   "metadata": {},
   "outputs": [
    {
     "data": {
      "text/plain": [
       "False"
      ]
     },
     "execution_count": 39,
     "metadata": {},
     "output_type": "execute_result"
    }
   ],
   "source": [
    "sudh.withdraw(9000)"
   ]
  },
  {
   "cell_type": "code",
   "execution_count": 40,
   "id": "1cc74c0f-7d36-4e21-aabd-119701fe7570",
   "metadata": {},
   "outputs": [
    {
     "data": {
      "text/plain": [
       "True"
      ]
     },
     "execution_count": 40,
     "metadata": {},
     "output_type": "execute_result"
    }
   ],
   "source": [
    "sudh.withdraw(2000)"
   ]
  },
  {
   "cell_type": "code",
   "execution_count": 41,
   "id": "a0e012a9-597b-4018-853d-1295a38607de",
   "metadata": {},
   "outputs": [
    {
     "data": {
      "text/plain": [
       "5000"
      ]
     },
     "execution_count": 41,
     "metadata": {},
     "output_type": "execute_result"
    }
   ],
   "source": [
    "sudh.get_balance()"
   ]
  },
  {
   "cell_type": "code",
   "execution_count": null,
   "id": "7393c733-44ee-4aff-b4fe-cf05209a7e5c",
   "metadata": {},
   "outputs": [],
   "source": []
  }
 ],
 "metadata": {
  "kernelspec": {
   "display_name": "Python 3 (ipykernel)",
   "language": "python",
   "name": "python3"
  },
  "language_info": {
   "codemirror_mode": {
    "name": "ipython",
    "version": 3
   },
   "file_extension": ".py",
   "mimetype": "text/x-python",
   "name": "python",
   "nbconvert_exporter": "python",
   "pygments_lexer": "ipython3",
   "version": "3.12.6"
  }
 },
 "nbformat": 4,
 "nbformat_minor": 5
}
