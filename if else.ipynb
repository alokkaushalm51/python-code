{
 "cells": [
  {
   "cell_type": "code",
   "execution_count": null,
   "id": "edd456ad-9419-4a16-878c-2c756828c1fc",
   "metadata": {},
   "outputs": [],
   "source": [
    "#IF ELSe\n",
    "#indentation\n",
    "#== comparison\n",
    "#elif=else if\n",
    "#if starting statement"
   ]
  },
  {
   "cell_type": "code",
   "execution_count": 1,
   "id": "05ebcb96-706a-4d17-8ade-5002de0053de",
   "metadata": {},
   "outputs": [
    {
     "name": "stdin",
     "output_type": "stream",
     "text": [
      "enter your input 90\n"
     ]
    },
    {
     "name": "stdout",
     "output_type": "stream",
     "text": [
      "you will be a part of A0 batch\n"
     ]
    }
   ],
   "source": [
    "marks = float(input(\"enter your input\"))\n",
    "if marks >= 80:\n",
    "    print(\"you will be a part of A0 batch\")\n",
    "elif marks >=60 and marks< 80:\n",
    "    print(\"you will partof A1 batch\")\n",
    "elif marks >=40 and marks < 60 :\n",
    "    print(\"you will be a part of A2 batch\")\n",
    "else :\n",
    "    print(\"you will be a part of A3 batch\")\n",
    "    "
   ]
  },
  {
   "cell_type": "code",
   "execution_count": 2,
   "id": "7ab14f19-190d-447a-976e-32e830607d6e",
   "metadata": {},
   "outputs": [
    {
     "data": {
      "text/plain": [
       "False"
      ]
     },
     "execution_count": 2,
     "metadata": {},
     "output_type": "execute_result"
    }
   ],
   "source": [
    "10 >=90"
   ]
  },
  {
   "cell_type": "code",
   "execution_count": 3,
   "id": "df9d4c8a-5598-4b7b-95b7-740110de3a72",
   "metadata": {},
   "outputs": [
    {
     "name": "stdin",
     "output_type": "stream",
     "text": [
      "price  500\n"
     ]
    },
    {
     "name": "stdout",
     "output_type": "stream",
     "text": [
      "i will purchase\n"
     ]
    }
   ],
   "source": [
    "price=int(input(\"price \"))\n",
    "if price >1000:\n",
    "    print(\"i will not purchase\")\n",
    "else:\n",
    "    print(\"i will purchase\")"
   ]
  },
  {
   "cell_type": "code",
   "execution_count": 4,
   "id": "e4ad6133-f7ee-4e41-b563-dc2cf9f441c9",
   "metadata": {},
   "outputs": [
    {
     "name": "stdin",
     "output_type": "stream",
     "text": [
      "price  7000\n"
     ]
    },
    {
     "name": "stdout",
     "output_type": "stream",
     "text": [
      "i will not purchase\n",
      "this is too much\n"
     ]
    }
   ],
   "source": [
    "price=int(input(\"price \"))\n",
    "if price >1000:\n",
    "    print(\"i will not purchase\")\n",
    "    if price >5000:\n",
    "        print(\"this is too much\")"
   ]
  },
  {
   "cell_type": "code",
   "execution_count": 1,
   "id": "2e3e9d2b-dd44-49f5-9f39-37083e8c4273",
   "metadata": {},
   "outputs": [
    {
     "name": "stdin",
     "output_type": "stream",
     "text": [
      "enter price 4000\n"
     ]
    },
    {
     "name": "stdout",
     "output_type": "stream",
     "text": [
      "i will not purchase\n",
      "not interested\n"
     ]
    }
   ],
   "source": [
    "price = int(input(\"enter price\"))\n",
    "if price >1000:\n",
    "    print(\"i will not purchase\")\n",
    "    if price>5000:\n",
    "        print(\"this is to much\")\n",
    "    elif price <2000:\n",
    "        print(\"its ok\")\n",
    "    elif price <1000:\n",
    "        print(\"i will purchase\")\n",
    "    else:\n",
    "        print(\"not interested\")"
   ]
  },
  {
   "cell_type": "code",
   "execution_count": 2,
   "id": "cf5fe53b-93f8-41f5-a67f-8f8d53b70e33",
   "metadata": {},
   "outputs": [],
   "source": [
    "l =[1,2,3,4,5,6,7,8]"
   ]
  },
  {
   "cell_type": "code",
   "execution_count": 3,
   "id": "f2aef3ce-7d24-4e34-8fe7-11f1445a6db1",
   "metadata": {},
   "outputs": [
    {
     "data": {
      "text/plain": [
       "[1, 2, 3, 4, 5, 6, 7, 8]"
      ]
     },
     "execution_count": 3,
     "metadata": {},
     "output_type": "execute_result"
    }
   ],
   "source": [
    "l"
   ]
  },
  {
   "cell_type": "code",
   "execution_count": 4,
   "id": "f508bf6b-810c-490a-95f3-06f248c1104e",
   "metadata": {},
   "outputs": [
    {
     "data": {
      "text/plain": [
       "2"
      ]
     },
     "execution_count": 4,
     "metadata": {},
     "output_type": "execute_result"
    }
   ],
   "source": [
    "l[0]+1"
   ]
  },
  {
   "cell_type": "code",
   "execution_count": 5,
   "id": "9066dc85-bfc7-4c6e-8812-39dc0e4a9ae6",
   "metadata": {},
   "outputs": [],
   "source": [
    "l1=[]"
   ]
  },
  {
   "cell_type": "code",
   "execution_count": 6,
   "id": "e55b5908-1b90-4ec9-821e-9b7d861d5d03",
   "metadata": {},
   "outputs": [],
   "source": [
    "l1.append(l[0]+1)"
   ]
  },
  {
   "cell_type": "code",
   "execution_count": 7,
   "id": "ff71f916-d25c-4cf0-88dd-5f018bf3e5e2",
   "metadata": {},
   "outputs": [
    {
     "data": {
      "text/plain": [
       "[2]"
      ]
     },
     "execution_count": 7,
     "metadata": {},
     "output_type": "execute_result"
    }
   ],
   "source": [
    "l1"
   ]
  },
  {
   "cell_type": "code",
   "execution_count": 8,
   "id": "35e83665-ff7e-4014-8361-fa72799234e4",
   "metadata": {},
   "outputs": [],
   "source": [
    "l =[1,2,3,4,5,6,7,8]"
   ]
  },
  {
   "cell_type": "code",
   "execution_count": 13,
   "id": "819e09a4-0127-4b25-adfe-72c620c8ff6d",
   "metadata": {},
   "outputs": [
    {
     "name": "stdout",
     "output_type": "stream",
     "text": [
      "2\n",
      "3\n",
      "4\n",
      "5\n",
      "6\n",
      "7\n",
      "8\n",
      "9\n"
     ]
    },
    {
     "data": {
      "text/plain": [
       "[2, 3, 4, 5, 6, 7, 8, 9]"
      ]
     },
     "execution_count": 13,
     "metadata": {},
     "output_type": "execute_result"
    }
   ],
   "source": [
    "l1=[]\n",
    "for i in l:\n",
    "    print(i+1)\n",
    "    l1.append(i+1)\n",
    "l1    "
   ]
  },
  {
   "cell_type": "markdown",
   "id": "1a8d0b9e-cb67-486e-827d-22293dc66b92",
   "metadata": {},
   "source": []
  },
  {
   "cell_type": "code",
   "execution_count": 14,
   "id": "f0c3db2b-f610-4698-8302-108bd777e916",
   "metadata": {},
   "outputs": [],
   "source": [
    "l=[\"alok\",\"kumar\",\"pwskills\",\"course\"]"
   ]
  },
  {
   "cell_type": "code",
   "execution_count": 17,
   "id": "6008cc38-c32d-466f-ac33-02feb08c9da2",
   "metadata": {},
   "outputs": [
    {
     "name": "stdout",
     "output_type": "stream",
     "text": [
      "alok\n",
      "kumar\n",
      "pwskills\n",
      "course\n"
     ]
    },
    {
     "data": {
      "text/plain": [
       "['ALOK', 'KUMAR', 'PWSKILLS', 'COURSE']"
      ]
     },
     "execution_count": 17,
     "metadata": {},
     "output_type": "execute_result"
    }
   ],
   "source": [
    "l1=[]\n",
    "for i in l:\n",
    "    print(i)\n",
    "    l1.append(i.upper())\n",
    "l1"
   ]
  },
  {
   "cell_type": "code",
   "execution_count": 18,
   "id": "c90e9c84-61fa-49fc-bb57-759812280ca7",
   "metadata": {},
   "outputs": [],
   "source": [
    "l=[1,2,3,4,\"sudh\",\"kumar\",324,34.456,\"abc\"]"
   ]
  },
  {
   "cell_type": "code",
   "execution_count": 19,
   "id": "0c7cd323-a8c4-4474-b16b-a9402e63fe29",
   "metadata": {},
   "outputs": [],
   "source": [
    "l1num=[]\n",
    "l2str=[]\n",
    "for i in l:\n",
    "    if type (i)==int or type(i)==float:\n",
    "        l1num.append(i)\n",
    "    else:\n",
    "        l2str.append(i)"
   ]
  },
  {
   "cell_type": "code",
   "execution_count": 20,
   "id": "15ce41a8-f30c-47f5-90b0-43858ca33fe8",
   "metadata": {},
   "outputs": [
    {
     "data": {
      "text/plain": [
       "[1, 2, 3, 4, 324, 34.456]"
      ]
     },
     "execution_count": 20,
     "metadata": {},
     "output_type": "execute_result"
    }
   ],
   "source": [
    "l1num"
   ]
  },
  {
   "cell_type": "code",
   "execution_count": 22,
   "id": "35cb5cc1-baf2-40f8-be33-584569827820",
   "metadata": {},
   "outputs": [
    {
     "data": {
      "text/plain": [
       "['sudh', 'kumar', 'abc']"
      ]
     },
     "execution_count": 22,
     "metadata": {},
     "output_type": "execute_result"
    }
   ],
   "source": [
    "l2str"
   ]
  },
  {
   "cell_type": "code",
   "execution_count": 23,
   "id": "951c68e7-305f-47fc-b5b5-093232fa600f",
   "metadata": {},
   "outputs": [
    {
     "data": {
      "text/plain": [
       "[1, 2, 3, 4, 'sudh', 'kumar', 324, 34.456, 'abc']"
      ]
     },
     "execution_count": 23,
     "metadata": {},
     "output_type": "execute_result"
    }
   ],
   "source": [
    "l"
   ]
  },
  {
   "cell_type": "code",
   "execution_count": 24,
   "id": "554d64b0-9b85-4537-8fc8-f70c3295d440",
   "metadata": {},
   "outputs": [],
   "source": [
    "q=[1,2,3,4,5]"
   ]
  },
  {
   "cell_type": "code",
   "execution_count": 26,
   "id": "0dffcf4f-69a0-43d7-b5c7-f90b6bfaa513",
   "metadata": {},
   "outputs": [
    {
     "name": "stdout",
     "output_type": "stream",
     "text": [
      "1 <class 'int'>\n",
      "2 <class 'int'>\n",
      "3 <class 'int'>\n",
      "4 <class 'int'>\n",
      "5 <class 'int'>\n"
     ]
    }
   ],
   "source": [
    "for i in q:\n",
    "    print(i,type(i))"
   ]
  },
  {
   "cell_type": "code",
   "execution_count": 4,
   "id": "4b5c7cc1-6b8e-46c1-949c-28e4737640f8",
   "metadata": {},
   "outputs": [],
   "source": [
    "q=[\"alok\",\"kumar\",\"pwskills\",\"sudh\"]"
   ]
  },
  {
   "cell_type": "code",
   "execution_count": 32,
   "id": "2bfec9b7-0d6c-4b9a-abd6-9a113e3c467f",
   "metadata": {},
   "outputs": [
    {
     "name": "stdout",
     "output_type": "stream",
     "text": [
      "alok <class 'str'>\n",
      "kumar <class 'str'>\n",
      "pwskills <class 'str'>\n",
      "sudh <class 'str'>\n"
     ]
    }
   ],
   "source": [
    "for i in q:\n",
    "    print(i,type(i))"
   ]
  },
  {
   "cell_type": "code",
   "execution_count": 5,
   "id": "4434a302-bb9f-46d9-8bbe-64f6d9eba19d",
   "metadata": {},
   "outputs": [
    {
     "data": {
      "text/plain": [
       "['alok', 'kumar', 'pwskills', 'sudh']"
      ]
     },
     "execution_count": 5,
     "metadata": {},
     "output_type": "execute_result"
    }
   ],
   "source": [
    "q"
   ]
  },
  {
   "cell_type": "code",
   "execution_count": 35,
   "id": "982f7043-27c1-4925-aec2-992d04ef8cd0",
   "metadata": {},
   "outputs": [
    {
     "name": "stdout",
     "output_type": "stream",
     "text": [
      "alok\n",
      "kumar\n",
      "pwskills\n",
      "sudh\n",
      "if for loop is able to complete itself then only else will execte\n"
     ]
    }
   ],
   "source": [
    "for i in q :\n",
    "    print(i)\n",
    "else:\n",
    "    print(\"if for loop is able to complete itself then only else will execte\")"
   ]
  },
  {
   "cell_type": "code",
   "execution_count": 36,
   "id": "daeb41ca-b84f-4955-9426-93cee032a5b9",
   "metadata": {},
   "outputs": [
    {
     "data": {
      "text/plain": [
       "['alok', 'kumar', 'pwskills', 'sudh']"
      ]
     },
     "execution_count": 36,
     "metadata": {},
     "output_type": "execute_result"
    }
   ],
   "source": [
    "q"
   ]
  },
  {
   "cell_type": "code",
   "execution_count": 47,
   "id": "fe991072-0ca7-42d9-b03a-79f314f4a19b",
   "metadata": {},
   "outputs": [
    {
     "name": "stdout",
     "output_type": "stream",
     "text": [
      "alok\n"
     ]
    }
   ],
   "source": [
    "for i in q:\n",
    "    if i == \"kumar\":\n",
    "        break\n",
    "    print(i)"
   ]
  },
  {
   "cell_type": "code",
   "execution_count": 6,
   "id": "e8b04f60-be0c-4a8b-91db-f498f8677b00",
   "metadata": {},
   "outputs": [
    {
     "data": {
      "text/plain": [
       "['alok', 'kumar', 'pwskills', 'sudh']"
      ]
     },
     "execution_count": 6,
     "metadata": {},
     "output_type": "execute_result"
    }
   ],
   "source": [
    "q"
   ]
  },
  {
   "cell_type": "code",
   "execution_count": 49,
   "id": "2bfd6194-cfba-4f2a-9d47-b7a04c72dee7",
   "metadata": {},
   "outputs": [
    {
     "name": "stdout",
     "output_type": "stream",
     "text": [
      "alok\n"
     ]
    }
   ],
   "source": [
    "for i in q:\n",
    "    if i == \"kumar\":\n",
    "        break\n",
    "    print(i)\n",
    "else:\n",
    "    print(\"execute this is for loop is able to complete itself\")"
   ]
  },
  {
   "cell_type": "code",
   "execution_count": 7,
   "id": "174c998a-c6ed-4d5b-a98b-43fb493d0929",
   "metadata": {},
   "outputs": [
    {
     "data": {
      "text/plain": [
       "['alok', 'kumar', 'pwskills', 'sudh']"
      ]
     },
     "execution_count": 7,
     "metadata": {},
     "output_type": "execute_result"
    }
   ],
   "source": [
    "q"
   ]
  },
  {
   "cell_type": "code",
   "execution_count": 9,
   "id": "42d3dbdf-8b61-4647-8e35-1a33f4aeb83f",
   "metadata": {},
   "outputs": [
    {
     "name": "stdout",
     "output_type": "stream",
     "text": [
      "alok\n",
      "pwskills\n",
      "sudh\n"
     ]
    }
   ],
   "source": [
    "for i in q:\n",
    "    if i==\"kumar\":\n",
    "        continue\n",
    "    print(i)"
   ]
  },
  {
   "cell_type": "code",
   "execution_count": 10,
   "id": "3514cffe-e562-49ac-bd4f-c1aa811c1ccf",
   "metadata": {},
   "outputs": [
    {
     "name": "stdout",
     "output_type": "stream",
     "text": [
      "alok\n",
      "pwskills\n",
      "sudh\n",
      "execute this if for lool is able  to complete itself\n"
     ]
    }
   ],
   "source": [
    "for i in q:\n",
    "    if i==\"kumar\":\n",
    "        continue\n",
    "    print(i)\n",
    "else:\n",
    "    print(\"execute this if for lool is able  to complete itself\")"
   ]
  },
  {
   "cell_type": "code",
   "execution_count": 11,
   "id": "555540e5-65f6-431c-ba77-088910e0cc49",
   "metadata": {},
   "outputs": [
    {
     "data": {
      "text/plain": [
       "range(0, 5)"
      ]
     },
     "execution_count": 11,
     "metadata": {},
     "output_type": "execute_result"
    }
   ],
   "source": [
    "range(5) #vgen data"
   ]
  },
  {
   "cell_type": "code",
   "execution_count": 12,
   "id": "d7ac57fe-2312-4b81-8171-e6d20a42267a",
   "metadata": {},
   "outputs": [
    {
     "data": {
      "text/plain": [
       "[0, 1, 2, 3, 4]"
      ]
     },
     "execution_count": 12,
     "metadata": {},
     "output_type": "execute_result"
    }
   ],
   "source": [
    "list(range(5))"
   ]
  },
  {
   "cell_type": "code",
   "execution_count": 13,
   "id": "5ffdd9bc-c434-400e-98d7-dc4b1e51cf78",
   "metadata": {},
   "outputs": [
    {
     "data": {
      "text/plain": [
       "[0, 1, 2, 3, 4]"
      ]
     },
     "execution_count": 13,
     "metadata": {},
     "output_type": "execute_result"
    }
   ],
   "source": [
    "list(range(0,5,1))"
   ]
  },
  {
   "cell_type": "code",
   "execution_count": 14,
   "id": "405d2e73-a45c-47b9-8d6a-9cae38015fb0",
   "metadata": {},
   "outputs": [
    {
     "data": {
      "text/plain": [
       "[0, 2, 4, 6, 8, 10, 12, 14, 16, 18]"
      ]
     },
     "execution_count": 14,
     "metadata": {},
     "output_type": "execute_result"
    }
   ],
   "source": [
    "list(range(0,20,2))"
   ]
  },
  {
   "cell_type": "code",
   "execution_count": 16,
   "id": "5eca7e0b-2c76-4003-8260-9c094918dd6e",
   "metadata": {},
   "outputs": [
    {
     "data": {
      "text/plain": [
       "[-10, -9, -8, -7, -6, -5, -4, -3, -2, -1]"
      ]
     },
     "execution_count": 16,
     "metadata": {},
     "output_type": "execute_result"
    }
   ],
   "source": [
    "list(range(-10,0))"
   ]
  },
  {
   "cell_type": "code",
   "execution_count": 17,
   "id": "3ccbc353-1f1d-4138-a05d-021055564fdb",
   "metadata": {},
   "outputs": [
    {
     "data": {
      "text/plain": [
       "['alok', 'kumar', 'pwskills', 'sudh']"
      ]
     },
     "execution_count": 17,
     "metadata": {},
     "output_type": "execute_result"
    }
   ],
   "source": [
    "q"
   ]
  },
  {
   "cell_type": "code",
   "execution_count": 18,
   "id": "66801438-5bfd-4d8f-91aa-93429427a152",
   "metadata": {},
   "outputs": [
    {
     "data": {
      "text/plain": [
       "4"
      ]
     },
     "execution_count": 18,
     "metadata": {},
     "output_type": "execute_result"
    }
   ],
   "source": [
    "len(q)"
   ]
  },
  {
   "cell_type": "code",
   "execution_count": 20,
   "id": "3728547f-2790-4f2d-8944-7c7948048b02",
   "metadata": {},
   "outputs": [
    {
     "data": {
      "text/plain": [
       "[0, 1, 2, 3]"
      ]
     },
     "execution_count": 20,
     "metadata": {},
     "output_type": "execute_result"
    }
   ],
   "source": [
    "list(range(len(q)))"
   ]
  },
  {
   "cell_type": "code",
   "execution_count": 22,
   "id": "643650ce-523d-4d34-b61f-a8242b748629",
   "metadata": {},
   "outputs": [
    {
     "name": "stdout",
     "output_type": "stream",
     "text": [
      "alok\n",
      "kumar\n",
      "pwskills\n",
      "sudh\n"
     ]
    }
   ],
   "source": [
    "for i in range(len(q)):\n",
    "    print(q[i])"
   ]
  },
  {
   "cell_type": "code",
   "execution_count": 24,
   "id": "2c4a2b02-9862-415f-a14a-a4ccce4f5143",
   "metadata": {},
   "outputs": [
    {
     "data": {
      "text/plain": [
       "[3, 2, 1, 0]"
      ]
     },
     "execution_count": 24,
     "metadata": {},
     "output_type": "execute_result"
    }
   ],
   "source": [
    "#reverse order\n",
    "list(range(len(q)-1,-1,-1))"
   ]
  },
  {
   "cell_type": "code",
   "execution_count": 29,
   "id": "15734eb1-a559-481d-be3f-757dcfc05479",
   "metadata": {},
   "outputs": [
    {
     "name": "stdout",
     "output_type": "stream",
     "text": [
      "sudh\n",
      "pwskills\n",
      "kumar\n",
      "alok\n"
     ]
    }
   ],
   "source": [
    "#reverse data show\n",
    "for i in range(len(q)-1,-1,-1):\n",
    "    print(q[i])"
   ]
  },
  {
   "cell_type": "code",
   "execution_count": 31,
   "id": "19849ccf-8bb5-496a-9f90-6e4381ca8e0a",
   "metadata": {},
   "outputs": [],
   "source": [
    "l2=[23,5,45,56,6,67,67,78,87,8998,9,9,8]"
   ]
  },
  {
   "cell_type": "code",
   "execution_count": 33,
   "id": "c01cfc91-7ba5-4737-ba9f-09c2562adf9d",
   "metadata": {},
   "outputs": [
    {
     "data": {
      "text/plain": [
       "[0, 2, 4, 6, 8, 10, 12]"
      ]
     },
     "execution_count": 33,
     "metadata": {},
     "output_type": "execute_result"
    }
   ],
   "source": [
    "#DATA SHOW IN EVEN INDEX\n",
    "list(range(0,len(l2),2))"
   ]
  },
  {
   "cell_type": "code",
   "execution_count": 38,
   "id": "2c5a8071-49c4-435a-a48b-81fb8ad1970d",
   "metadata": {},
   "outputs": [
    {
     "name": "stdout",
     "output_type": "stream",
     "text": [
      "23\n",
      "45\n",
      "6\n",
      "67\n",
      "87\n",
      "9\n",
      "8\n"
     ]
    }
   ],
   "source": [
    "for i in range(0,len(l2),2):\n",
    "    print(l2[i])"
   ]
  },
  {
   "cell_type": "code",
   "execution_count": 39,
   "id": "70eded72-9427-4854-bae2-6b63c04591f7",
   "metadata": {},
   "outputs": [
    {
     "data": {
      "text/plain": [
       "23"
      ]
     },
     "execution_count": 39,
     "metadata": {},
     "output_type": "execute_result"
    }
   ],
   "source": [
    "l2[0]"
   ]
  },
  {
   "cell_type": "code",
   "execution_count": 41,
   "id": "37dfe1d8-d2c8-4d95-b6a2-74cbdfda6308",
   "metadata": {},
   "outputs": [],
   "source": [
    "#LIST\n",
    "l=[1,2,3,4,7,8,98]"
   ]
  },
  {
   "cell_type": "code",
   "execution_count": 42,
   "id": "1e0b23be-2271-4f03-9ea1-fcf0fb397cbd",
   "metadata": {},
   "outputs": [
    {
     "data": {
      "text/plain": [
       "123"
      ]
     },
     "execution_count": 42,
     "metadata": {},
     "output_type": "execute_result"
    }
   ],
   "source": [
    " sum(l)"
   ]
  },
  {
   "cell_type": "code",
   "execution_count": 45,
   "id": "bd909705-ef5b-4838-b448-e70fa7dc79be",
   "metadata": {},
   "outputs": [
    {
     "data": {
      "text/plain": [
       "123"
      ]
     },
     "execution_count": 45,
     "metadata": {},
     "output_type": "execute_result"
    }
   ],
   "source": [
    "#ADDING THE VALUE IN LOOP\n",
    "result=0\n",
    "for i in l:\n",
    "    result=result+i\n",
    "result    \n",
    "    "
   ]
  },
  {
   "cell_type": "code",
   "execution_count": 46,
   "id": "1aca8161-2a61-4863-9c02-bb7a656c9ab5",
   "metadata": {},
   "outputs": [],
   "source": [
    "t=(1,2,3,4,4,5)"
   ]
  },
  {
   "cell_type": "code",
   "execution_count": 47,
   "id": "480c3f87-df35-4f0c-b7de-85ebc944f75b",
   "metadata": {},
   "outputs": [
    {
     "name": "stdout",
     "output_type": "stream",
     "text": [
      "1\n",
      "2\n",
      "3\n",
      "4\n",
      "4\n",
      "5\n"
     ]
    }
   ],
   "source": [
    "for i in t:\n",
    "    print(i)"
   ]
  },
  {
   "cell_type": "code",
   "execution_count": 48,
   "id": "f6a7ec86-5976-40d1-9a51-ec81eb08ad56",
   "metadata": {},
   "outputs": [
    {
     "data": {
      "text/plain": [
       "19"
      ]
     },
     "execution_count": 48,
     "metadata": {},
     "output_type": "execute_result"
    }
   ],
   "source": [
    "result=0\n",
    "for i in t:\n",
    "    result=result+i\n",
    "result   "
   ]
  },
  {
   "cell_type": "code",
   "execution_count": 50,
   "id": "da1c1a51-4488-441c-aa81-9223de5500de",
   "metadata": {},
   "outputs": [
    {
     "data": {
      "text/plain": [
       "19"
      ]
     },
     "execution_count": 50,
     "metadata": {},
     "output_type": "execute_result"
    }
   ],
   "source": [
    "#same function work,(tuples =t)\n",
    "sum(t)"
   ]
  },
  {
   "cell_type": "code",
   "execution_count": 54,
   "id": "1a88363a-3e0c-46e9-b1ec-74af1b63fdd1",
   "metadata": {},
   "outputs": [],
   "source": [
    "#SET\n",
    "s={1,2,3,4,5 ,\"sudh\",\"skills\"}"
   ]
  },
  {
   "cell_type": "code",
   "execution_count": 55,
   "id": "d8953ee3-7483-46b6-9260-3caf42f04226",
   "metadata": {},
   "outputs": [
    {
     "name": "stdout",
     "output_type": "stream",
     "text": [
      "sudh\n",
      "1\n",
      "2\n",
      "3\n",
      "4\n",
      "5\n",
      "skills\n"
     ]
    }
   ],
   "source": [
    "for i in s :\n",
    "    print(i)"
   ]
  },
  {
   "cell_type": "code",
   "execution_count": 57,
   "id": "aea7ba3c-d464-4306-8ffc-6c1fcfb980ad",
   "metadata": {},
   "outputs": [],
   "source": [
    "s1=\"pwskills\""
   ]
  },
  {
   "cell_type": "code",
   "execution_count": 59,
   "id": "9c386fd8-827a-4e2f-bab4-41d4568489d9",
   "metadata": {},
   "outputs": [
    {
     "name": "stdout",
     "output_type": "stream",
     "text": [
      "p\n",
      "w\n",
      "s\n",
      "k\n",
      "i\n",
      "l\n",
      "l\n",
      "s\n"
     ]
    }
   ],
   "source": [
    "for i in s1:\n",
    "    print(i)"
   ]
  },
  {
   "cell_type": "code",
   "execution_count": 60,
   "id": "bbe77ee2-4d67-4c97-af53-02acae3fc66a",
   "metadata": {},
   "outputs": [],
   "source": [
    "d={\"name\":\"alok\",\"class\":\"data sci master\",\"topic\":[\"python\",\"stats\",\"machine learning\",\"dl\",\"cv\",\"NLP\",\"RESUME\",\"INTERVIW\"]}"
   ]
  },
  {
   "cell_type": "code",
   "execution_count": 62,
   "id": "6151b710-b9d8-448a-9baa-d8684d4f7620",
   "metadata": {},
   "outputs": [
    {
     "data": {
      "text/plain": [
       "{'name': 'alok',\n",
       " 'class': 'data sci master',\n",
       " 'topic': ['python',\n",
       "  'stats',\n",
       "  'machine learning',\n",
       "  'dl',\n",
       "  'cv',\n",
       "  'NLP',\n",
       "  'RESUME',\n",
       "  'INTERVIW']}"
      ]
     },
     "execution_count": 62,
     "metadata": {},
     "output_type": "execute_result"
    }
   ],
   "source": [
    "d"
   ]
  },
  {
   "cell_type": "code",
   "execution_count": 63,
   "id": "a2bbb4d6-ea88-49c5-880a-f1425a91c861",
   "metadata": {},
   "outputs": [
    {
     "data": {
      "text/plain": [
       "'alok'"
      ]
     },
     "execution_count": 63,
     "metadata": {},
     "output_type": "execute_result"
    }
   ],
   "source": [
    "d[\"name\"]"
   ]
  },
  {
   "cell_type": "code",
   "execution_count": 64,
   "id": "64767da8-11e5-418b-ac15-0304009ba347",
   "metadata": {},
   "outputs": [
    {
     "data": {
      "text/plain": [
       "dict_keys(['name', 'class', 'topic'])"
      ]
     },
     "execution_count": 64,
     "metadata": {},
     "output_type": "execute_result"
    }
   ],
   "source": [
    "d.keys()"
   ]
  },
  {
   "cell_type": "code",
   "execution_count": 66,
   "id": "ee6b9f55-88ee-439b-9774-44756f4e89a3",
   "metadata": {},
   "outputs": [
    {
     "name": "stdout",
     "output_type": "stream",
     "text": [
      "alok\n",
      "data sci master\n",
      "['python', 'stats', 'machine learning', 'dl', 'cv', 'NLP', 'RESUME', 'INTERVIW']\n"
     ]
    }
   ],
   "source": [
    "for i in d.keys():\n",
    "    print(d[i])"
   ]
  },
  {
   "cell_type": "code",
   "execution_count": 67,
   "id": "1f1ad8c8-43b2-48b2-85b2-b7cefb891642",
   "metadata": {},
   "outputs": [
    {
     "name": "stdout",
     "output_type": "stream",
     "text": [
      "alok\n",
      "data sci master\n",
      "['python', 'stats', 'machine learning', 'dl', 'cv', 'NLP', 'RESUME', 'INTERVIW']\n"
     ]
    }
   ],
   "source": [
    "for i in d.values():\n",
    "    print(i)\n",
    "    "
   ]
  },
  {
   "cell_type": "code",
   "execution_count": 68,
   "id": "27f2597a-938e-4023-a466-61ae8aa1ed93",
   "metadata": {},
   "outputs": [
    {
     "data": {
      "text/plain": [
       "dict_items([('name', 'alok'), ('class', 'data sci master'), ('topic', ['python', 'stats', 'machine learning', 'dl', 'cv', 'NLP', 'RESUME', 'INTERVIW'])])"
      ]
     },
     "execution_count": 68,
     "metadata": {},
     "output_type": "execute_result"
    }
   ],
   "source": [
    "d.items()"
   ]
  },
  {
   "cell_type": "code",
   "execution_count": 70,
   "id": "37063cf4-3c19-4989-a37d-cbf23bda6e10",
   "metadata": {},
   "outputs": [
    {
     "name": "stdout",
     "output_type": "stream",
     "text": [
      "('name', 'alok')\n",
      "('class', 'data sci master')\n",
      "('topic', ['python', 'stats', 'machine learning', 'dl', 'cv', 'NLP', 'RESUME', 'INTERVIW'])\n"
     ]
    }
   ],
   "source": [
    "for i in d.items():\n",
    "    print(i)\n",
    "    "
   ]
  },
  {
   "cell_type": "code",
   "execution_count": 74,
   "id": "4833a02f-f1d7-4bca-b681-24f04eedff1f",
   "metadata": {},
   "outputs": [
    {
     "data": {
      "text/plain": [
       "'p w s k i l l s'"
      ]
     },
     "execution_count": 74,
     "metadata": {},
     "output_type": "execute_result"
    }
   ],
   "source": [
    "string = \"p w s k i l l s\"\n",
    "\n",
    "\" \".join(string.replace(\" \", \"\"))"
   ]
  },
  {
   "cell_type": "code",
   "execution_count": 75,
   "id": "d0bbd291-daf0-43f3-8a58-4947a6d42e80",
   "metadata": {},
   "outputs": [
    {
     "name": "stdout",
     "output_type": "stream",
     "text": [
      "I\n",
      "Want\n",
      "To\n",
      "Become\n",
      "A\n",
      "Data\n",
      "Scientist\n"
     ]
    }
   ],
   "source": [
    "s = \"I want to become a data scientist\"\n",
    "\n",
    "for i in s.split():\n",
    "\n",
    "    i.capitalize()\n",
    "\n",
    "    print(i.title())"
   ]
  },
  {
   "cell_type": "code",
   "execution_count": 77,
   "id": "eb5b883d-f094-49f1-b1be-810b8c2c5f3f",
   "metadata": {},
   "outputs": [
    {
     "ename": "TypeError",
     "evalue": "'str' object does not support item assignment",
     "output_type": "error",
     "traceback": [
      "\u001b[1;31m---------------------------------------------------------------------------\u001b[0m",
      "\u001b[1;31mTypeError\u001b[0m                                 Traceback (most recent call last)",
      "Cell \u001b[1;32mIn[77], line 1\u001b[0m\n\u001b[1;32m----> 1\u001b[0m k\u001b[38;5;241m=\u001b[39m\u001b[38;5;124;43m'\u001b[39;49m\u001b[38;5;124;43mpwskills\u001b[39;49m\u001b[38;5;124;43m'\u001b[39;49m\u001b[43m[\u001b[49m\u001b[38;5;241;43m0\u001b[39;49m\u001b[43m]\u001b[49m\u001b[38;5;241m=\u001b[39m\u001b[38;5;124m'\u001b[39m\u001b[38;5;124mP\u001b[39m\u001b[38;5;124m'\u001b[39m\n",
      "\u001b[1;31mTypeError\u001b[0m: 'str' object does not support item assignment"
     ]
    }
   ],
   "source": [
    "'pwskills'[0]='P'"
   ]
  },
  {
   "cell_type": "code",
   "execution_count": null,
   "id": "1dd17520-19dc-44a7-b38f-bd70538beb5c",
   "metadata": {},
   "outputs": [],
   "source": []
  }
 ],
 "metadata": {
  "kernelspec": {
   "display_name": "Python 3 (ipykernel)",
   "language": "python",
   "name": "python3"
  },
  "language_info": {
   "codemirror_mode": {
    "name": "ipython",
    "version": 3
   },
   "file_extension": ".py",
   "mimetype": "text/x-python",
   "name": "python",
   "nbconvert_exporter": "python",
   "pygments_lexer": "ipython3",
   "version": "3.12.6"
  }
 },
 "nbformat": 4,
 "nbformat_minor": 5
}
