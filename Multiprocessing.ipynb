{
 "cells": [
  {
   "cell_type": "code",
   "execution_count": 7,
   "id": "6ff3dbd1-5d78-415c-9b23-ac2924ec8d7a",
   "metadata": {},
   "outputs": [
    {
     "name": "stdout",
     "output_type": "stream",
     "text": [
      "this is my main program\n"
     ]
    }
   ],
   "source": [
    "import multiprocessing\n",
    "def test6():\n",
    "    print(\"this is my multiprocessing prog\")\n",
    "    \n",
    "if __name__ == '__main__':\n",
    "    m=multiprocessing.Process(target=test6)\n",
    "    print(\"this is my main program\")\n",
    "    m.start()\n",
    "    m.join()\n",
    "    "
   ]
  },
  {
   "cell_type": "code",
   "execution_count": 3,
   "id": "7bf7e6c1-4a30-42f3-acdc-8b58cf7ec1f4",
   "metadata": {},
   "outputs": [
    {
     "name": "stdout",
     "output_type": "stream",
     "text": [
      "this is my multiprocessing prog\n"
     ]
    }
   ],
   "source": [
    "test6()"
   ]
  },
  {
   "cell_type": "code",
   "execution_count": null,
   "id": "85f1b2bd-c390-4102-9a11-6586de348af4",
   "metadata": {},
   "outputs": [],
   "source": [
    "import multiprocessing\n",
    "def square (n):\n",
    "    return n**2\n",
    "\n",
    "if __name__ == '__main__':\n",
    "    with multiprocessing.Pool(processes=4) as pool:\n",
    "        out=pool.map(square,[1,2,3,4,5,6,7,8])\n",
    "        print(out)"
   ]
  },
  {
   "cell_type": "code",
   "execution_count": null,
   "id": "64fbcb52-fe9d-4abe-8c88-b70cb7f73d5f",
   "metadata": {},
   "outputs": [],
   "source": [
    "import multiprocessing\n",
    "def producer(q) :\n",
    "    for i in [\"sudh\", \"kuamr\" , \"asdf\"]:\n",
    "        q.put(i)\n",
    "\n",
    "def consume(q) :\n",
    "    while True :\n",
    "        item = q.get()\n",
    "        if item is None :\n",
    "            break\n",
    "        print(item)\n",
    "\n",
    "if __name__ == '__main__':\n",
    "    queue = multiprocessing.Queue()\n",
    "    m1 = multiprocessing.Process(target=producer , args= (queue,))\n",
    "    m2 = multiprocessing.Process(target=consume , args = (queue,))\n",
    "    m1.start()\n",
    "    m2.start()\n",
    "    queue.put(\"sudh\")\n",
    "    m1.join()\n",
    "    m2.join()"
   ]
  },
  {
   "cell_type": "markdown",
   "id": "cf7e0fc5-e8e8-4c3d-9d4e-9511d877f611",
   "metadata": {},
   "source": [
    "sudh\n",
    "kumar\n",
    "asdf\n",
    "sudh"
   ]
  },
  {
   "cell_type": "code",
   "execution_count": null,
   "id": "88f83468-db76-4396-8f06-a82f18eb5059",
   "metadata": {},
   "outputs": [],
   "source": [
    "import multiprocessing\n",
    "def square(index , value):\n",
    "    value[index] = value[index]**2\n",
    "\n",
    "if __name__ == '__main__':\n",
    "    arr = multiprocessing.Array('i' , [2,3,4,5,6,7,8])\n",
    "    process = []\n",
    "    for i in range(7):\n",
    "        m = multiprocessing.Process(target=square,args = (i,arr))\n",
    "        process.append(m)\n",
    "        m.start()\n",
    "    for m in process:\n",
    "        m.join()\n",
    "    print(list(arr))"
   ]
  },
  {
   "cell_type": "code",
   "execution_count": null,
   "id": "2ed0a2f5-a0af-4b7f-acf9-18a73666d4e5",
   "metadata": {},
   "outputs": [],
   "source": [
    "import multiprocessing\n",
    "def sender(conn , msg):\n",
    "    for i in msg:\n",
    "        conn.send(i)\n",
    "    conn.close()\n",
    "\n",
    "def receive(conn) :\n",
    "    while True :\n",
    "        try:\n",
    "            msg = conn.recv()\n",
    "        except Exception as e:\n",
    "            print(e)\n",
    "            break\n",
    "        print(msg)\n",
    "if __name__ == '__main__' :\n",
    "    msg = [\"my name is sudh\", ]"
   ]
  }
 ],
 "metadata": {
  "kernelspec": {
   "display_name": "Python 3 (ipykernel)",
   "language": "python",
   "name": "python3"
  },
  "language_info": {
   "codemirror_mode": {
    "name": "ipython",
    "version": 3
   },
   "file_extension": ".py",
   "mimetype": "text/x-python",
   "name": "python",
   "nbconvert_exporter": "python",
   "pygments_lexer": "ipython3",
   "version": "3.12.6"
  }
 },
 "nbformat": 4,
 "nbformat_minor": 5
}
