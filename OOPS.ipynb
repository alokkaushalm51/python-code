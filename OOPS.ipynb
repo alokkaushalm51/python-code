{
 "cells": [
  {
   "cell_type": "markdown",
   "id": "d729d1a5-e267-4c1a-ac20-eedc4edbf237",
   "metadata": {},
   "source": [
    "\"OOPS\"-STANDS FOR OBJECT ORIENTED PROGRAMMING SYSTEM"
   ]
  },
  {
   "cell_type": "code",
   "execution_count": 1,
   "id": "9c336f9f-117d-45de-8386-5f75b4ce788f",
   "metadata": {},
   "outputs": [],
   "source": [
    "a=1"
   ]
  },
  {
   "cell_type": "code",
   "execution_count": 2,
   "id": "73b11e9e-a69b-498a-8bfe-0811f0784c86",
   "metadata": {},
   "outputs": [
    {
     "name": "stdout",
     "output_type": "stream",
     "text": [
      "<class 'int'>\n"
     ]
    }
   ],
   "source": [
    "print(type(a))"
   ]
  },
  {
   "cell_type": "code",
   "execution_count": 3,
   "id": "ba8cded8-739a-4873-8f6a-855094587ff1",
   "metadata": {},
   "outputs": [
    {
     "name": "stdout",
     "output_type": "stream",
     "text": [
      "<class 'str'>\n"
     ]
    }
   ],
   "source": [
    "print(type(\"pwskills\"))"
   ]
  },
  {
   "cell_type": "markdown",
   "id": "9f36bde1-7314-4866-8d1c-edadd20e7d93",
   "metadata": {},
   "source": [
    "what is class - class is real world entites"
   ]
  },
  {
   "cell_type": "code",
   "execution_count": 4,
   "id": "7cf3c43b-4952-4dee-a904-cae21cf8c100",
   "metadata": {},
   "outputs": [],
   "source": [
    "class test:\n",
    "    pass"
   ]
  },
  {
   "cell_type": "code",
   "execution_count": 5,
   "id": "2c415837-3f9a-4568-9bf2-d62fc2f27dfe",
   "metadata": {},
   "outputs": [],
   "source": [
    "a=test()"
   ]
  },
  {
   "cell_type": "code",
   "execution_count": 7,
   "id": "fce131a0-0e60-4743-8f34-c1554c786af4",
   "metadata": {},
   "outputs": [
    {
     "data": {
      "text/plain": [
       "__main__.test"
      ]
     },
     "execution_count": 7,
     "metadata": {},
     "output_type": "execute_result"
    }
   ],
   "source": [
    "type(a)"
   ]
  },
  {
   "cell_type": "code",
   "execution_count": 9,
   "id": "1f766000-784a-4d16-ac31-56980d8d1760",
   "metadata": {},
   "outputs": [
    {
     "name": "stdout",
     "output_type": "stream",
     "text": [
      "<class '__main__.test'>\n"
     ]
    }
   ],
   "source": [
    "print(type(a))"
   ]
  },
  {
   "cell_type": "code",
   "execution_count": 17,
   "id": "e620daf6-f2af-4ca9-aa6a-ba14f1656968",
   "metadata": {},
   "outputs": [],
   "source": [
    "class pwskills:\n",
    "    def welcome_msg(self):\n",
    "        print(\"welcome to pwskills\")"
   ]
  },
  {
   "cell_type": "code",
   "execution_count": 18,
   "id": "f672538e-0b58-4892-82ef-5e8a9c9f29e3",
   "metadata": {},
   "outputs": [],
   "source": [
    "rohan=pwskills()"
   ]
  },
  {
   "cell_type": "code",
   "execution_count": 20,
   "id": "e00e73e3-3c86-4c7d-a610-a125f176f0a8",
   "metadata": {},
   "outputs": [
    {
     "name": "stdout",
     "output_type": "stream",
     "text": [
      "<class '__main__.pwskills'>\n"
     ]
    }
   ],
   "source": [
    "print(type(rohan))"
   ]
  },
  {
   "cell_type": "code",
   "execution_count": 21,
   "id": "00793bcf-7113-4ecc-94a3-12d8111f46bc",
   "metadata": {},
   "outputs": [
    {
     "name": "stdout",
     "output_type": "stream",
     "text": [
      "welcome to pwskills\n"
     ]
    }
   ],
   "source": [
    "rohan.welcome_msg()"
   ]
  },
  {
   "cell_type": "code",
   "execution_count": 22,
   "id": "e61bd4e7-a1f3-4315-a5ed-c46524c6d99f",
   "metadata": {},
   "outputs": [],
   "source": [
    "gaurav=pwskills()"
   ]
  },
  {
   "cell_type": "code",
   "execution_count": 23,
   "id": "54ef119e-44ee-4241-aab7-85762a3cbdb3",
   "metadata": {},
   "outputs": [
    {
     "name": "stdout",
     "output_type": "stream",
     "text": [
      "welcome to pwskills\n"
     ]
    }
   ],
   "source": [
    "gaurav.welcome_msg()"
   ]
  },
  {
   "cell_type": "code",
   "execution_count": 46,
   "id": "f46d8365-b24b-44fe-b8e4-bcef076536b6",
   "metadata": {},
   "outputs": [],
   "source": [
    "#init -instilastion\n",
    "class pwskills1 :\n",
    "    \n",
    "    def __init__(self ,phone_number , email_id , student_id ):\n",
    "        self.phone_number = phone_number\n",
    "        self.email_id = email_id\n",
    "        self.student_id = student_id\n",
    "    \n",
    "    def return_student_deetials(self) : \n",
    "        return self.student_id ,self.phone_number ,self.email_id"
   ]
  },
  {
   "cell_type": "code",
   "execution_count": 39,
   "id": "90dad257-16ab-4482-b56a-77560f746bf4",
   "metadata": {},
   "outputs": [
    {
     "ename": "TypeError",
     "evalue": "pwskills1.__init__() missing 3 required positional arguments: 'phone_number', 'email_id', and 'student_id'",
     "output_type": "error",
     "traceback": [
      "\u001b[1;31m---------------------------------------------------------------------------\u001b[0m",
      "\u001b[1;31mTypeError\u001b[0m                                 Traceback (most recent call last)",
      "Cell \u001b[1;32mIn[39], line 1\u001b[0m\n\u001b[1;32m----> 1\u001b[0m rohan\u001b[38;5;241m=\u001b[39m\u001b[43mpwskills1\u001b[49m\u001b[43m(\u001b[49m\u001b[43m)\u001b[49m\n",
      "\u001b[1;31mTypeError\u001b[0m: pwskills1.__init__() missing 3 required positional arguments: 'phone_number', 'email_id', and 'student_id'"
     ]
    }
   ],
   "source": [
    "rohan=pwskills1()"
   ]
  },
  {
   "cell_type": "code",
   "execution_count": 47,
   "id": "19f4138a-4112-4e29-9a87-37306f7aa4e1",
   "metadata": {},
   "outputs": [],
   "source": [
    "rohan=pwskills1(1222222,\"rohan@gmail.com\" ,101)"
   ]
  },
  {
   "cell_type": "code",
   "execution_count": 48,
   "id": "41c0723b-fe87-4aa3-9bb0-7a419b434be7",
   "metadata": {},
   "outputs": [
    {
     "data": {
      "text/plain": [
       "(101, 1222222, 'rohan@gmail.com')"
      ]
     },
     "execution_count": 48,
     "metadata": {},
     "output_type": "execute_result"
    }
   ],
   "source": [
    "rohan.return_student_deetials()"
   ]
  },
  {
   "cell_type": "code",
   "execution_count": 50,
   "id": "cf4b7f5a-edbc-46da-a3f4-e4b8c94cf4e6",
   "metadata": {},
   "outputs": [],
   "source": [
    "gaurav=pwskills1(9876543,\"gaurav@gmail.com\",102)"
   ]
  },
  {
   "cell_type": "code",
   "execution_count": 52,
   "id": "5ed40188-cf9a-4668-b7e5-7fb981144fd8",
   "metadata": {},
   "outputs": [
    {
     "ename": "AttributeError",
     "evalue": "'pwskills1' object has no attribute 'return_student_deetails'",
     "output_type": "error",
     "traceback": [
      "\u001b[1;31m---------------------------------------------------------------------------\u001b[0m",
      "\u001b[1;31mAttributeError\u001b[0m                            Traceback (most recent call last)",
      "Cell \u001b[1;32mIn[52], line 1\u001b[0m\n\u001b[1;32m----> 1\u001b[0m \u001b[43mgaurav\u001b[49m\u001b[38;5;241;43m.\u001b[39;49m\u001b[43mreturn_student_deetails\u001b[49m()\n",
      "\u001b[1;31mAttributeError\u001b[0m: 'pwskills1' object has no attribute 'return_student_deetails'"
     ]
    }
   ],
   "source": [
    "gaurav.return_student_deetails()"
   ]
  },
  {
   "cell_type": "code",
   "execution_count": 57,
   "id": "6911d276-b5c0-40bd-b928-9a79cfd70844",
   "metadata": {},
   "outputs": [],
   "source": [
    "class pwskills2 :\n",
    "    \n",
    "    def __init__(self ,phone_number , email_id , student_id ):\n",
    "        self.phone_number1 = phone_number\n",
    "        self.email_id1 = email_id\n",
    "        self.student_id1 = student_id\n",
    "    \n",
    "    def return_student_deetials(self) : \n",
    "        return self.student_id ,self.phone_number ,self.email_id"
   ]
  },
  {
   "cell_type": "code",
   "execution_count": 58,
   "id": "2d863bc7-d7fe-459a-bee8-75c51c0115cb",
   "metadata": {},
   "outputs": [],
   "source": [
    "sudh=pwskills2(9876543,\"sudh@gmail.com\",102)"
   ]
  },
  {
   "cell_type": "code",
   "execution_count": 59,
   "id": "292e2f5c-921b-4b96-a375-1b0412310cae",
   "metadata": {},
   "outputs": [
    {
     "data": {
      "text/plain": [
       "<__main__.pwskills2 at 0x27fe0d3a450>"
      ]
     },
     "execution_count": 59,
     "metadata": {},
     "output_type": "execute_result"
    }
   ],
   "source": [
    "sudh"
   ]
  },
  {
   "cell_type": "code",
   "execution_count": 60,
   "id": "892217a3-8d38-42a8-8367-e7355f34bca7",
   "metadata": {},
   "outputs": [
    {
     "data": {
      "text/plain": [
       "9876543"
      ]
     },
     "execution_count": 60,
     "metadata": {},
     "output_type": "execute_result"
    }
   ],
   "source": [
    "sudh.phone_number1"
   ]
  },
  {
   "cell_type": "code",
   "execution_count": 75,
   "id": "97b4dc71-b1f8-431d-8eb8-2699444c6343",
   "metadata": {},
   "outputs": [],
   "source": [
    "#change self =sudh\n",
    "class pwskills2 :\n",
    "    \n",
    "    def __init__(sudh ,phone_number , email_id , student_id ):\n",
    "        sudh.phone_number1 = phone_number\n",
    "        sudh.email_id1 = email_id\n",
    "        sudh.student_id1 = student_id\n",
    "    \n",
    "    def return_student_deetials(self) : \n",
    "        return sudh.student_id1 ,sudh.phone_number1,sudh.email_id1"
   ]
  },
  {
   "cell_type": "code",
   "execution_count": 77,
   "id": "f931ccbc-3c98-4b64-9d84-efeeac5bc796",
   "metadata": {},
   "outputs": [],
   "source": [
    "rohan=pwskills2(12345,\"rohan@gmail.com\",324)"
   ]
  },
  {
   "cell_type": "code",
   "execution_count": 78,
   "id": "49f40cfa-7f1d-4927-b350-3a752abd552d",
   "metadata": {},
   "outputs": [
    {
     "data": {
      "text/plain": [
       "12345"
      ]
     },
     "execution_count": 78,
     "metadata": {},
     "output_type": "execute_result"
    }
   ],
   "source": [
    "rohan.phone_number1"
   ]
  },
  {
   "cell_type": "code",
   "execution_count": null,
   "id": "dfee68da-0f75-40fd-aef5-b5968a6e5319",
   "metadata": {},
   "outputs": [],
   "source": []
  }
 ],
 "metadata": {
  "kernelspec": {
   "display_name": "Python 3 (ipykernel)",
   "language": "python",
   "name": "python3"
  },
  "language_info": {
   "codemirror_mode": {
    "name": "ipython",
    "version": 3
   },
   "file_extension": ".py",
   "mimetype": "text/x-python",
   "name": "python",
   "nbconvert_exporter": "python",
   "pygments_lexer": "ipython3",
   "version": "3.12.6"
  }
 },
 "nbformat": 4,
 "nbformat_minor": 5
}
