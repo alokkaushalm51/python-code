{
 "cells": [
  {
   "cell_type": "code",
   "execution_count": 1,
   "id": "1096bcd0-293e-45c8-8ecc-d7014fef646a",
   "metadata": {},
   "outputs": [],
   "source": [
    "import abc\n",
    "class pwskills:\n",
    "    @abc.abstractmethod\n",
    "    def student_details(self):\n",
    "         pass\n",
    "        \n",
    "    @abc.abstractmethod    \n",
    "    def student_assignment(self):\n",
    "         pass\n",
    "        \n",
    "    @abc.abstractmethod    \n",
    "    def student_marks(self):\n",
    "         pass\n",
    "        "
   ]
  },
  {
   "cell_type": "code",
   "execution_count": 2,
   "id": "f84b7ce0-7615-49ae-af7f-cd0a06c29efa",
   "metadata": {},
   "outputs": [],
   "source": [
    "class student_details(pwskills):\n",
    "    def student_details(self):\n",
    "        return \"this is a method for taking student details\"\n",
    "\n",
    "    def student_assignment(self):\n",
    "        return \"this is a method for assing details for a particular details \"\n",
    "    "
   ]
  },
  {
   "cell_type": "code",
   "execution_count": null,
   "id": "c74bc4cf-5650-4ec7-ae41-22ba8902a48d",
   "metadata": {},
   "outputs": [],
   "source": []
  },
  {
   "cell_type": "code",
   "execution_count": 3,
   "id": "c6a4e41e-d289-4f09-8992-a47b620090cf",
   "metadata": {},
   "outputs": [],
   "source": [
    "class data_science_master(pwskills):\n",
    "    \n",
    "    def student_details(self):\n",
    "        return \"this will return a student details for data science\"\n",
    "\n",
    "    def student_assignment(self):\n",
    "        return \"this will give you a stud assimt details for data\"\n",
    "        "
   ]
  },
  {
   "cell_type": "code",
   "execution_count": 5,
   "id": "7a6369b2-a590-4c6b-9c52-50b6b686491b",
   "metadata": {},
   "outputs": [
    {
     "data": {
      "text/plain": [
       "'this will return a student details for data science'"
      ]
     },
     "execution_count": 5,
     "metadata": {},
     "output_type": "execute_result"
    }
   ],
   "source": [
    "dsm=data_science_master()\n",
    "dsm.student_details()"
   ]
  },
  {
   "cell_type": "code",
   "execution_count": 6,
   "id": "6e226b27-3121-4170-8b08-13c28cf5c82c",
   "metadata": {},
   "outputs": [
    {
     "data": {
      "text/plain": [
       "'this is a method for taking student details'"
      ]
     },
     "execution_count": 6,
     "metadata": {},
     "output_type": "execute_result"
    }
   ],
   "source": [
    "sd=student_details()\n",
    "sd.student_details()"
   ]
  },
  {
   "cell_type": "code",
   "execution_count": null,
   "id": "5438274d-8034-4c26-9e43-3870ce92a8e6",
   "metadata": {},
   "outputs": [],
   "source": []
  }
 ],
 "metadata": {
  "kernelspec": {
   "display_name": "Python 3 (ipykernel)",
   "language": "python",
   "name": "python3"
  },
  "language_info": {
   "codemirror_mode": {
    "name": "ipython",
    "version": 3
   },
   "file_extension": ".py",
   "mimetype": "text/x-python",
   "name": "python",
   "nbconvert_exporter": "python",
   "pygments_lexer": "ipython3",
   "version": "3.12.6"
  }
 },
 "nbformat": 4,
 "nbformat_minor": 5
}
