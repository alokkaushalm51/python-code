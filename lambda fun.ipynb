{
 "cells": [
  {
   "cell_type": "code",
   "execution_count": 1,
   "id": "514129c5-a207-4a05-a643-a66f9ae63a69",
   "metadata": {},
   "outputs": [],
   "source": [
    "n=3\n",
    "p=2"
   ]
  },
  {
   "cell_type": "markdown",
   "id": "6b0f3dc0-f88f-4a31-94be-83ed92d1f71a",
   "metadata": {},
   "source": [
    "N TO THE POWER P"
   ]
  },
  {
   "cell_type": "code",
   "execution_count": 2,
   "id": "e8c7566d-fc6f-4961-a007-84fc703db8c1",
   "metadata": {},
   "outputs": [],
   "source": [
    "def test(n,p):\n",
    "    return n**p"
   ]
  },
  {
   "cell_type": "code",
   "execution_count": 3,
   "id": "c0236272-d630-4a41-9b03-208afad1e5c9",
   "metadata": {},
   "outputs": [
    {
     "data": {
      "text/plain": [
       "9"
      ]
     },
     "execution_count": 3,
     "metadata": {},
     "output_type": "execute_result"
    }
   ],
   "source": [
    "test(3,2)"
   ]
  },
  {
   "cell_type": "markdown",
   "id": "a208bf9f-be8b-4f9a-859a-30f7074e445f",
   "metadata": {},
   "source": [
    "ONE LINER FUNCTION ,ANONYMOUS FUNCTION ,LAMBDA FUNCTION"
   ]
  },
  {
   "cell_type": "code",
   "execution_count": 5,
   "id": "8e8d4905-f4ac-4366-a0e2-b0b8adec87a1",
   "metadata": {},
   "outputs": [],
   "source": [
    "a=lambda n,p:n**p"
   ]
  },
  {
   "cell_type": "code",
   "execution_count": 6,
   "id": "cb07e6af-be68-41c0-8af4-09a08136372b",
   "metadata": {},
   "outputs": [
    {
     "data": {
      "text/plain": [
       "9"
      ]
     },
     "execution_count": 6,
     "metadata": {},
     "output_type": "execute_result"
    }
   ],
   "source": [
    "a(3,2)"
   ]
  },
  {
   "cell_type": "code",
   "execution_count": 13,
   "id": "891e44e6-e66e-4734-aa23-91e6a8099137",
   "metadata": {},
   "outputs": [],
   "source": [
    "add =lambda x,y:x+y"
   ]
  },
  {
   "cell_type": "code",
   "execution_count": 14,
   "id": "0c5a6624-fb02-49ca-91e9-64bcdd85dec9",
   "metadata": {},
   "outputs": [
    {
     "data": {
      "text/plain": [
       "9"
      ]
     },
     "execution_count": 14,
     "metadata": {},
     "output_type": "execute_result"
    }
   ],
   "source": [
    "add(4,5)"
   ]
  },
  {
   "cell_type": "markdown",
   "id": "70cfab7a-1279-493f-a3b3-b1bb86336ac6",
   "metadata": {},
   "source": [
    "celsius to fahrenheit"
   ]
  },
  {
   "cell_type": "code",
   "execution_count": 15,
   "id": "0156e55e-4fcb-4cc4-b9ea-bbb15a42c7a7",
   "metadata": {},
   "outputs": [],
   "source": [
    "v=lambda c :(9/5)*c+32"
   ]
  },
  {
   "cell_type": "code",
   "execution_count": 16,
   "id": "b053735b-b0a6-4eb9-96ab-c189b4079ed7",
   "metadata": {},
   "outputs": [
    {
     "data": {
      "text/plain": [
       "113.0"
      ]
     },
     "execution_count": 16,
     "metadata": {},
     "output_type": "execute_result"
    }
   ],
   "source": [
    "v(45)"
   ]
  },
  {
   "cell_type": "markdown",
   "id": "c41c818a-3074-47bd-95ae-a73f6d7f7f5f",
   "metadata": {},
   "source": [
    "Fahrenheit to Celsius"
   ]
  },
  {
   "cell_type": "code",
   "execution_count": 27,
   "id": "a641c3d1-dcc5-410e-947c-01bbfb072bfa",
   "metadata": {},
   "outputs": [],
   "source": [
    "y=lambda k:(k-32)*(5/9)"
   ]
  },
  {
   "cell_type": "code",
   "execution_count": 29,
   "id": "f3483a46-0a4b-4fda-8bd6-1562f1918271",
   "metadata": {},
   "outputs": [
    {
     "data": {
      "text/plain": [
       "26.666666666666668"
      ]
     },
     "execution_count": 29,
     "metadata": {},
     "output_type": "execute_result"
    }
   ],
   "source": [
    "y(80)"
   ]
  },
  {
   "cell_type": "code",
   "execution_count": 31,
   "id": "c4cc9edb-37a8-4851-b64b-52b1e1b24cc0",
   "metadata": {},
   "outputs": [],
   "source": [
    "finding_max=lambda x,y:x if x>y else y "
   ]
  },
  {
   "cell_type": "code",
   "execution_count": 32,
   "id": "7eb2d74b-638e-4101-a2d9-d59f9405e529",
   "metadata": {},
   "outputs": [
    {
     "data": {
      "text/plain": [
       "34"
      ]
     },
     "execution_count": 32,
     "metadata": {},
     "output_type": "execute_result"
    }
   ],
   "source": [
    "finding_max(34,23)"
   ]
  },
  {
   "cell_type": "code",
   "execution_count": 33,
   "id": "3f651b32-4e88-4002-a182-78a97ac9ad9e",
   "metadata": {},
   "outputs": [],
   "source": [
    "s=\"pwskills\""
   ]
  },
  {
   "cell_type": "code",
   "execution_count": 34,
   "id": "c74e70b1-129f-4bb7-9b15-cf55c29ea42c",
   "metadata": {},
   "outputs": [],
   "source": [
    "find_len=lambda s:len(s)"
   ]
  },
  {
   "cell_type": "code",
   "execution_count": 35,
   "id": "0fc2185e-f2ac-4665-b27b-a433119418a6",
   "metadata": {},
   "outputs": [
    {
     "data": {
      "text/plain": [
       "8"
      ]
     },
     "execution_count": 35,
     "metadata": {},
     "output_type": "execute_result"
    }
   ],
   "source": [
    "find_len(s)"
   ]
  },
  {
   "cell_type": "code",
   "execution_count": null,
   "id": "12dc8088-ab82-4e19-ad5f-fbd0697df31e",
   "metadata": {},
   "outputs": [],
   "source": []
  }
 ],
 "metadata": {
  "kernelspec": {
   "display_name": "Python 3 (ipykernel)",
   "language": "python",
   "name": "python3"
  },
  "language_info": {
   "codemirror_mode": {
    "name": "ipython",
    "version": 3
   },
   "file_extension": ".py",
   "mimetype": "text/x-python",
   "name": "python",
   "nbconvert_exporter": "python",
   "pygments_lexer": "ipython3",
   "version": "3.12.6"
  }
 },
 "nbformat": 4,
 "nbformat_minor": 5
}
