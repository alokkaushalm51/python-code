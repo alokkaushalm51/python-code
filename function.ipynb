{
 "cells": [
  {
   "cell_type": "code",
   "execution_count": 1,
   "id": "b90eb960-392f-4591-9885-621c36a9c3de",
   "metadata": {},
   "outputs": [],
   "source": [
    "l=[324,45,45,45]"
   ]
  },
  {
   "cell_type": "code",
   "execution_count": 2,
   "id": "911a3fed-29ec-4eac-b8ad-3c4eaa7ae72a",
   "metadata": {},
   "outputs": [
    {
     "data": {
      "text/plain": [
       "4"
      ]
     },
     "execution_count": 2,
     "metadata": {},
     "output_type": "execute_result"
    }
   ],
   "source": [
    "len(l)"
   ]
  },
  {
   "cell_type": "code",
   "execution_count": 3,
   "id": "d6cd53a6-e173-4452-904c-5e05eea18be3",
   "metadata": {},
   "outputs": [
    {
     "data": {
      "text/plain": [
       "list"
      ]
     },
     "execution_count": 3,
     "metadata": {},
     "output_type": "execute_result"
    }
   ],
   "source": [
    "type(l)"
   ]
  },
  {
   "cell_type": "markdown",
   "id": "f65afa62-a41e-4350-8e40-2da93bd79453",
   "metadata": {},
   "source": [
    "PASS FUNCTION USE WITHOUT BODY TO EXCUTE THE CODE"
   ]
  },
  {
   "cell_type": "code",
   "execution_count": 4,
   "id": "7167cc2a-d6f3-451f-a0f9-4c18571d0827",
   "metadata": {},
   "outputs": [],
   "source": [
    "def test():\n",
    "    pass "
   ]
  },
  {
   "cell_type": "code",
   "execution_count": 5,
   "id": "de0d9066-b2ad-4b6d-bb62-25f93e4de132",
   "metadata": {},
   "outputs": [],
   "source": [
    "def test1():\n",
    "    print(\"this is my very very first function\")"
   ]
  },
  {
   "cell_type": "code",
   "execution_count": 6,
   "id": "8338ac26-2886-477b-8bc3-d129cc86242b",
   "metadata": {},
   "outputs": [
    {
     "name": "stdout",
     "output_type": "stream",
     "text": [
      "this is my very very first function\n"
     ]
    }
   ],
   "source": [
    "test1() "
   ]
  },
  {
   "cell_type": "markdown",
   "id": "52b76e4c-76df-4661-8607-5d5a37499b33",
   "metadata": {},
   "source": [
    "PRINT ALWAYS SEND NONE TYPE WHICH MEANS NONE DATA TYPE\n",
    "CONCATINATE MEANS STRING + ADD ANOTHER STRING"
   ]
  },
  {
   "cell_type": "code",
   "execution_count": 7,
   "id": "c553e830-3b27-4903-870b-e95b266cd912",
   "metadata": {},
   "outputs": [
    {
     "name": "stdout",
     "output_type": "stream",
     "text": [
      "this is my very very first function\n"
     ]
    },
    {
     "ename": "TypeError",
     "evalue": "unsupported operand type(s) for +: 'NoneType' and 'str'",
     "output_type": "error",
     "traceback": [
      "\u001b[1;31m---------------------------------------------------------------------------\u001b[0m",
      "\u001b[1;31mTypeError\u001b[0m                                 Traceback (most recent call last)",
      "Cell \u001b[1;32mIn[7], line 1\u001b[0m\n\u001b[1;32m----> 1\u001b[0m \u001b[43mtest1\u001b[49m\u001b[43m(\u001b[49m\u001b[43m)\u001b[49m\u001b[38;5;241;43m+\u001b[39;49m\u001b[38;5;124;43m\"\u001b[39;49m\u001b[38;5;124;43msudh\u001b[39;49m\u001b[38;5;124;43m\"\u001b[39;49m\n",
      "\u001b[1;31mTypeError\u001b[0m: unsupported operand type(s) for +: 'NoneType' and 'str'"
     ]
    }
   ],
   "source": [
    "test1()+\"sudh\" #because not add in def function (\"int,string not add\")"
   ]
  },
  {
   "cell_type": "code",
   "execution_count": 9,
   "id": "eabc4958-1337-46ed-8375-49f5466005f8",
   "metadata": {},
   "outputs": [],
   "source": [
    "def test2():\n",
    "    return \"this is my very first return\""
   ]
  },
  {
   "cell_type": "code",
   "execution_count": 10,
   "id": "cd240f67-6d63-4c89-9b3e-18be58d4d239",
   "metadata": {},
   "outputs": [
    {
     "data": {
      "text/plain": [
       "'this is my very first return'"
      ]
     },
     "execution_count": 10,
     "metadata": {},
     "output_type": "execute_result"
    }
   ],
   "source": [
    "test2()"
   ]
  },
  {
   "cell_type": "markdown",
   "id": "c24813a6-dbe9-4382-bcda-0e5c5d253211",
   "metadata": {},
   "source": [
    "IN RETURN FUNCTION THE STRING ARE ADDED WITH KEYS FUNCTION"
   ]
  },
  {
   "cell_type": "code",
   "execution_count": 13,
   "id": "c7291e74-af72-45ac-a042-aa9a5a1dfa92",
   "metadata": {},
   "outputs": [
    {
     "data": {
      "text/plain": [
       "'this is my very first return sudh'"
      ]
     },
     "execution_count": 13,
     "metadata": {},
     "output_type": "execute_result"
    }
   ],
   "source": [
    "test2()+\" sudh\""
   ]
  },
  {
   "cell_type": "code",
   "execution_count": 14,
   "id": "b9efb4a4-3ac5-4418-96c1-54b72022c0ae",
   "metadata": {},
   "outputs": [],
   "source": [
    "def test3():\n",
    "    return  \"sudh\",23,345.56,[1,2,3]"
   ]
  },
  {
   "cell_type": "code",
   "execution_count": 16,
   "id": "d5a0a946-5ff5-49b2-888d-bd042c893dd3",
   "metadata": {},
   "outputs": [
    {
     "data": {
      "text/plain": [
       "('sudh', 23, 345.56, [1, 2, 3])"
      ]
     },
     "execution_count": 16,
     "metadata": {},
     "output_type": "execute_result"
    }
   ],
   "source": [
    "test3()"
   ]
  },
  {
   "cell_type": "code",
   "execution_count": 17,
   "id": "b1d53a0f-7455-4d27-ae40-72b5935a90e5",
   "metadata": {},
   "outputs": [],
   "source": [
    "a,b,c,d=test3() #STORE IN THE VALUE OF A ALPHABATE"
   ]
  },
  {
   "cell_type": "code",
   "execution_count": 18,
   "id": "b952d028-ad0f-4704-b584-cf859620e703",
   "metadata": {},
   "outputs": [
    {
     "data": {
      "text/plain": [
       "'sudh'"
      ]
     },
     "execution_count": 18,
     "metadata": {},
     "output_type": "execute_result"
    }
   ],
   "source": [
    "a"
   ]
  },
  {
   "cell_type": "code",
   "execution_count": 19,
   "id": "c138c2c4-94fe-4c95-807d-dbeb0fb3ca4b",
   "metadata": {},
   "outputs": [
    {
     "data": {
      "text/plain": [
       "23"
      ]
     },
     "execution_count": 19,
     "metadata": {},
     "output_type": "execute_result"
    }
   ],
   "source": [
    "b"
   ]
  },
  {
   "cell_type": "code",
   "execution_count": 20,
   "id": "7eed5d9a-414a-49f1-aad0-14dedd49c944",
   "metadata": {},
   "outputs": [],
   "source": [
    "def test4():\n",
    "    a=5+6/7\n",
    "    return a"
   ]
  },
  {
   "cell_type": "code",
   "execution_count": 21,
   "id": "511003b0-0e0b-43f1-9a33-bfc67a6b6330",
   "metadata": {},
   "outputs": [
    {
     "data": {
      "text/plain": [
       "5.857142857142857"
      ]
     },
     "execution_count": 21,
     "metadata": {},
     "output_type": "execute_result"
    }
   ],
   "source": [
    "test4()"
   ]
  },
  {
   "cell_type": "code",
   "execution_count": 30,
   "id": "d6233693-5df9-4106-aafa-fd814cb8a416",
   "metadata": {},
   "outputs": [],
   "source": [
    "def test5(a,b,c):\n",
    "    d=a+b/c\n",
    "    return d\n",
    "#FALLOW OF BODMAS"
   ]
  },
  {
   "cell_type": "code",
   "execution_count": 31,
   "id": "48f2c44b-1f6e-43bd-803a-9457503662b1",
   "metadata": {},
   "outputs": [
    {
     "data": {
      "text/plain": [
       "6.0"
      ]
     },
     "execution_count": 31,
     "metadata": {},
     "output_type": "execute_result"
    }
   ],
   "source": [
    "test5(4,4,2)"
   ]
  },
  {
   "cell_type": "code",
   "execution_count": 32,
   "id": "de5706d5-5c62-4ab9-9c7d-7ceafb7f3585",
   "metadata": {},
   "outputs": [],
   "source": [
    "def test6(a,b):\n",
    "    return a+b\n",
    "    "
   ]
  },
  {
   "cell_type": "code",
   "execution_count": 33,
   "id": "ff06f846-8ed3-4c9f-acd2-3d3348b3bc57",
   "metadata": {},
   "outputs": [
    {
     "data": {
      "text/plain": [
       "7"
      ]
     },
     "execution_count": 33,
     "metadata": {},
     "output_type": "execute_result"
    }
   ],
   "source": [
    "test6(3,4)"
   ]
  },
  {
   "cell_type": "code",
   "execution_count": 35,
   "id": "8b09c037-a50b-4eb4-8185-ef6beb40f495",
   "metadata": {},
   "outputs": [
    {
     "data": {
      "text/plain": [
       "'sudh kumar'"
      ]
     },
     "execution_count": 35,
     "metadata": {},
     "output_type": "execute_result"
    }
   ],
   "source": [
    "test6(\"sudh\" ,\" kumar\")"
   ]
  },
  {
   "cell_type": "code",
   "execution_count": 37,
   "id": "9f3a7162-3e74-49ec-9fe4-9b267ba9cd75",
   "metadata": {},
   "outputs": [
    {
     "data": {
      "text/plain": [
       "[1, 2, 3, 4, 5, 4, 5, 6]"
      ]
     },
     "execution_count": 37,
     "metadata": {},
     "output_type": "execute_result"
    }
   ],
   "source": [
    "test6([1,2,3,4,5],[4,5,6])"
   ]
  },
  {
   "cell_type": "code",
   "execution_count": 39,
   "id": "9d0ef4f2-ee78-4df0-b714-db210cf5853e",
   "metadata": {},
   "outputs": [
    {
     "data": {
      "text/plain": [
       "[1, 2, 3, 'sudh']"
      ]
     },
     "execution_count": 39,
     "metadata": {},
     "output_type": "execute_result"
    }
   ],
   "source": [
    "test6([1,2,3],[\"sudh\"])"
   ]
  },
  {
   "cell_type": "code",
   "execution_count": 50,
   "id": "a57d9a35-d986-45d8-91d9-d9236ca504d6",
   "metadata": {},
   "outputs": [],
   "source": [
    "l=[1,2,3,4,\"sudh\",\"kumar\",[1,2,3,4,5]]"
   ]
  },
  {
   "cell_type": "code",
   "execution_count": 52,
   "id": "bf5afabf-b2f0-442f-a192-bec5a9f7b72e",
   "metadata": {},
   "outputs": [],
   "source": [
    "l1=[]\n",
    "for i in l:\n",
    "    if type(i)==int or type(i)==float:\n",
    "        l1.append(i)"
   ]
  },
  {
   "cell_type": "code",
   "execution_count": 53,
   "id": "4993cd6e-ae5c-4820-b479-8f9d11f97685",
   "metadata": {},
   "outputs": [
    {
     "data": {
      "text/plain": [
       "[1, 2, 3, 4]"
      ]
     },
     "execution_count": 53,
     "metadata": {},
     "output_type": "execute_result"
    }
   ],
   "source": [
    "l1"
   ]
  },
  {
   "cell_type": "code",
   "execution_count": 55,
   "id": "e1255bd0-3ca9-4704-bb46-3d06fb2e1da8",
   "metadata": {},
   "outputs": [],
   "source": [
    "def test7(l):\n",
    "    l1=[]\n",
    "    for i in l:\n",
    "        if type(i)==int or type(i)==float:\n",
    "           l1.append(i)\n",
    "    return l1        \n",
    "    "
   ]
  },
  {
   "cell_type": "code",
   "execution_count": 56,
   "id": "69f7aa25-2bae-4816-8aab-c7865b0297e9",
   "metadata": {},
   "outputs": [
    {
     "data": {
      "text/plain": [
       "[1, 2, 3, 4]"
      ]
     },
     "execution_count": 56,
     "metadata": {},
     "output_type": "execute_result"
    }
   ],
   "source": [
    "test7(l)"
   ]
  },
  {
   "cell_type": "code",
   "execution_count": 59,
   "id": "f4fc5b26-b857-4d55-9fac-3856dc011af7",
   "metadata": {},
   "outputs": [],
   "source": [
    "def test8(a):\n",
    "    l=[]\n",
    "    for i in a :\n",
    "        if type(i)==list:\n",
    "            for j in i:\n",
    "                l.append(j)\n",
    "        else:\n",
    "            if type(i)==int or type(i)==float:\n",
    "                l.append(i)\n",
    "    return l\n",
    "            "
   ]
  },
  {
   "cell_type": "code",
   "execution_count": 60,
   "id": "d0b9dbf5-5877-4e40-b364-70a19618fcaf",
   "metadata": {},
   "outputs": [
    {
     "data": {
      "text/plain": [
       "[1, 2, 3, 4, 1, 2, 3, 4, 5]"
      ]
     },
     "execution_count": 60,
     "metadata": {},
     "output_type": "execute_result"
    }
   ],
   "source": [
    "test8(l)"
   ]
  },
  {
   "cell_type": "code",
   "execution_count": 62,
   "id": "3fa5cd03-3164-46ef-9c2b-1ebc3a65b966",
   "metadata": {},
   "outputs": [],
   "source": [
    "def test9(a):\n",
    "    \"\"\"this is my function to extract num data from list\"\"\" #docs string\n",
    "    \n",
    "    l=[]\n",
    "    for i in a :\n",
    "        if type(i)==list:\n",
    "            for j in i:\n",
    "                l.append(j)\n",
    "        else:\n",
    "            if type(i)==int or type(i)==float:\n",
    "                l.append(i)\n",
    "    return l"
   ]
  },
  {
   "cell_type": "code",
   "execution_count": null,
   "id": "0fd7ea4a-601c-41b6-b303-fb32467dcfe7",
   "metadata": {},
   "outputs": [],
   "source": [
    "test9()"
   ]
  },
  {
   "cell_type": "code",
   "execution_count": 65,
   "id": "2a07114a-0c5c-4fed-8ad1-e6fb22567a59",
   "metadata": {},
   "outputs": [],
   "source": [
    "def test10(a,b):\n",
    "    return a+b"
   ]
  },
  {
   "cell_type": "markdown",
   "id": "9be565f1-7ccc-46aa-9aab-8d41c20e1ae7",
   "metadata": {},
   "source": [
    "#  * n number of argument pass"
   ]
  },
  {
   "cell_type": "code",
   "execution_count": 81,
   "id": "57cb5d13-a931-4953-8f3e-02eecb2c5ff4",
   "metadata": {},
   "outputs": [],
   "source": [
    "def test11(*args):\n",
    "    return args"
   ]
  },
  {
   "cell_type": "code",
   "execution_count": 68,
   "id": "90d57a35-1ac2-410a-8b81-8fd42dc72e12",
   "metadata": {},
   "outputs": [
    {
     "data": {
      "text/plain": [
       "tuple"
      ]
     },
     "execution_count": 68,
     "metadata": {},
     "output_type": "execute_result"
    }
   ],
   "source": [
    "type(test11())"
   ]
  },
  {
   "cell_type": "code",
   "execution_count": 70,
   "id": "b981678f-2491-4339-b251-aba48b23b7b0",
   "metadata": {},
   "outputs": [
    {
     "data": {
      "text/plain": [
       "(1, 2, 3)"
      ]
     },
     "execution_count": 70,
     "metadata": {},
     "output_type": "execute_result"
    }
   ],
   "source": [
    "test11(1,2,3)"
   ]
  },
  {
   "cell_type": "code",
   "execution_count": 71,
   "id": "983c2b31-7964-401f-af3a-1510ef56c164",
   "metadata": {},
   "outputs": [
    {
     "data": {
      "text/plain": [
       "(1, 2, 3, 'sudh', 'kumar', [1, 2, 3, 4])"
      ]
     },
     "execution_count": 71,
     "metadata": {},
     "output_type": "execute_result"
    }
   ],
   "source": [
    "test11(1,2,3,\"sudh\",\"kumar\",[1,2,3,4])"
   ]
  },
  {
   "cell_type": "code",
   "execution_count": 74,
   "id": "4c555bc5-c74e-450a-a4d0-654aa3f9deae",
   "metadata": {},
   "outputs": [],
   "source": [
    "def test12(*alok):\n",
    "    return alok"
   ]
  },
  {
   "cell_type": "code",
   "execution_count": 76,
   "id": "8c8c9057-c2a1-49e2-8a7b-be0d3ddf3ed6",
   "metadata": {},
   "outputs": [
    {
     "data": {
      "text/plain": [
       "(1, 2, 3)"
      ]
     },
     "execution_count": 76,
     "metadata": {},
     "output_type": "execute_result"
    }
   ],
   "source": [
    "test12(1,2,3)"
   ]
  },
  {
   "cell_type": "code",
   "execution_count": 79,
   "id": "6eb7fde1-f217-4f67-90cd-b85ac2ce776f",
   "metadata": {},
   "outputs": [],
   "source": [
    "#user can be define\n",
    "def test13(*args , a):\n",
    "    return args, a"
   ]
  },
  {
   "cell_type": "code",
   "execution_count": 80,
   "id": "0aa0f02b-6802-4a02-bdba-98b5a19f571d",
   "metadata": {},
   "outputs": [
    {
     "ename": "TypeError",
     "evalue": "test13() missing 1 required keyword-only argument: 'a'",
     "output_type": "error",
     "traceback": [
      "\u001b[1;31m---------------------------------------------------------------------------\u001b[0m",
      "\u001b[1;31mTypeError\u001b[0m                                 Traceback (most recent call last)",
      "Cell \u001b[1;32mIn[80], line 1\u001b[0m\n\u001b[1;32m----> 1\u001b[0m \u001b[43mtest13\u001b[49m\u001b[43m(\u001b[49m\u001b[38;5;241;43m1\u001b[39;49m\u001b[43m,\u001b[49m\u001b[38;5;241;43m2\u001b[39;49m\u001b[43m,\u001b[49m\u001b[38;5;241;43m3\u001b[39;49m\u001b[43m,\u001b[49m\u001b[38;5;241;43m3\u001b[39;49m\u001b[43m)\u001b[49m\n",
      "\u001b[1;31mTypeError\u001b[0m: test13() missing 1 required keyword-only argument: 'a'"
     ]
    }
   ],
   "source": [
    "test13(1,2,3,3)"
   ]
  },
  {
   "cell_type": "code",
   "execution_count": 82,
   "id": "14838f15-79a3-4527-891a-0370a321c712",
   "metadata": {},
   "outputs": [
    {
     "data": {
      "text/plain": [
       "((1, 2, 3, 4), 12)"
      ]
     },
     "execution_count": 82,
     "metadata": {},
     "output_type": "execute_result"
    }
   ],
   "source": [
    "test13(1,2,3,4,a=12)"
   ]
  },
  {
   "cell_type": "code",
   "execution_count": 83,
   "id": "51a2ed62-3937-4ec3-b3d8-31d4a276ea28",
   "metadata": {},
   "outputs": [],
   "source": [
    "def test14(c,d,a=23,b=1):\n",
    "    return a,b,c,d"
   ]
  },
  {
   "cell_type": "code",
   "execution_count": 84,
   "id": "dca9e76f-12ac-4010-b274-c4964a4ffc4b",
   "metadata": {},
   "outputs": [
    {
     "data": {
      "text/plain": [
       "(23, 1, 3, 4)"
      ]
     },
     "execution_count": 84,
     "metadata": {},
     "output_type": "execute_result"
    }
   ],
   "source": [
    "test14(3,4)"
   ]
  },
  {
   "cell_type": "code",
   "execution_count": 85,
   "id": "4d00c710-881c-4e26-96f7-26d79a605e7a",
   "metadata": {},
   "outputs": [
    {
     "data": {
      "text/plain": [
       "(235, 1, 2, 5)"
      ]
     },
     "execution_count": 85,
     "metadata": {},
     "output_type": "execute_result"
    }
   ],
   "source": [
    "test14(2,5,a=235)"
   ]
  },
  {
   "cell_type": "code",
   "execution_count": 86,
   "id": "923ed433-5648-491a-8cfa-5890654622dc",
   "metadata": {},
   "outputs": [],
   "source": [
    "def test15(**kwargs):\n",
    "    return kwargs"
   ]
  },
  {
   "cell_type": "code",
   "execution_count": 87,
   "id": "4e962763-5f42-49b9-af40-ccf1729ad4ae",
   "metadata": {},
   "outputs": [
    {
     "data": {
      "text/plain": [
       "{}"
      ]
     },
     "execution_count": 87,
     "metadata": {},
     "output_type": "execute_result"
    }
   ],
   "source": [
    "test15()"
   ]
  },
  {
   "cell_type": "code",
   "execution_count": 88,
   "id": "cb6636da-ad3d-4d1d-ac43-c5700430d4c5",
   "metadata": {},
   "outputs": [
    {
     "data": {
      "text/plain": [
       "dict"
      ]
     },
     "execution_count": 88,
     "metadata": {},
     "output_type": "execute_result"
    }
   ],
   "source": [
    "type(test15())"
   ]
  },
  {
   "cell_type": "code",
   "execution_count": 89,
   "id": "56a9e3b0-1c3c-4d28-8768-94528d6ef890",
   "metadata": {},
   "outputs": [
    {
     "data": {
      "text/plain": [
       "{'a': [1, 2, 3, 4], 'b': 'sudh', 'c': 23.45}"
      ]
     },
     "execution_count": 89,
     "metadata": {},
     "output_type": "execute_result"
    }
   ],
   "source": [
    "test15(a=[1,2,3,4],b=\"sudh\",c=23.45)"
   ]
  },
  {
   "cell_type": "code",
   "execution_count": null,
   "id": "1ea1f895-204a-4f5a-bb08-9358aab39294",
   "metadata": {},
   "outputs": [],
   "source": []
  }
 ],
 "metadata": {
  "kernelspec": {
   "display_name": "Python 3 (ipykernel)",
   "language": "python",
   "name": "python3"
  },
  "language_info": {
   "codemirror_mode": {
    "name": "ipython",
    "version": 3
   },
   "file_extension": ".py",
   "mimetype": "text/x-python",
   "name": "python",
   "nbconvert_exporter": "python",
   "pygments_lexer": "ipython3",
   "version": "3.12.6"
  }
 },
 "nbformat": 4,
 "nbformat_minor": 5
}
