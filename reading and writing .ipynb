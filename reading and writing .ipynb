{
 "cells": [
  {
   "cell_type": "code",
   "execution_count": 2,
   "id": "12a3f340-0697-4cfb-9ba9-99a03f46391e",
   "metadata": {},
   "outputs": [],
   "source": [
    "data={\n",
    "    \"name\":\"sudh\",\n",
    "    \"mail_id\":\"sudh@gmail.com\",\n",
    "    \"phone_number\":9876549876,\n",
    "    \"subject\":[\"data science\",\"big data\",\"data analytics\"]\n",
    "    \n",
    "}"
   ]
  },
  {
   "cell_type": "code",
   "execution_count": 3,
   "id": "d10a0795-76fa-4cd5-a24d-faf306afa89a",
   "metadata": {},
   "outputs": [],
   "source": [
    "import json"
   ]
  },
  {
   "cell_type": "code",
   "execution_count": 5,
   "id": "78745baf-11fc-4654-83bb-00c20720ec36",
   "metadata": {},
   "outputs": [],
   "source": [
    "with open(\"data.json\",'w') as f:\n",
    "    json.dump(data,f)"
   ]
  },
  {
   "cell_type": "code",
   "execution_count": 6,
   "id": "567fe4c0-a3c5-41f3-a28b-02a13bc37b53",
   "metadata": {},
   "outputs": [],
   "source": [
    "with open(\"data.json\",'r')as f :\n",
    "    detail=json.load(f)"
   ]
  },
  {
   "cell_type": "code",
   "execution_count": 7,
   "id": "74b751a8-fd2e-4fa0-913f-adf525b9f722",
   "metadata": {},
   "outputs": [
    {
     "data": {
      "text/plain": [
       "{'name': 'sudh',\n",
       " 'mail_id': 'sudh@gmail.com',\n",
       " 'phone_number': 9876549876,\n",
       " 'subject': ['data science', 'big data', 'data analytics']}"
      ]
     },
     "execution_count": 7,
     "metadata": {},
     "output_type": "execute_result"
    }
   ],
   "source": [
    "detail"
   ]
  },
  {
   "cell_type": "code",
   "execution_count": 9,
   "id": "83c33ed2-450d-44db-82eb-791824d4e46b",
   "metadata": {},
   "outputs": [
    {
     "data": {
      "text/plain": [
       "'big data'"
      ]
     },
     "execution_count": 9,
     "metadata": {},
     "output_type": "execute_result"
    }
   ],
   "source": [
    "detail[\"subject\"][1]   \\"
   ]
  },
  {
   "cell_type": "markdown",
   "id": "f4a5594a-52b7-42ae-a68d-0c8cc07933fc",
   "metadata": {},
   "source": [
    "COMMA SEPARATED VALUIES FILES\n"
   ]
  },
  {
   "cell_type": "code",
   "execution_count": 10,
   "id": "e629c7d2-2cd7-4e59-b822-336d0bfff9e1",
   "metadata": {},
   "outputs": [],
   "source": [
    "import csv"
   ]
  },
  {
   "cell_type": "code",
   "execution_count": 11,
   "id": "0d449d82-fb07-4e26-b490-b1d62dd026d2",
   "metadata": {},
   "outputs": [],
   "source": [
    "data = [[\"name\",\"email_id\",\"phone_number\"],\n",
    "       [\"sudh\",\"sudh@gmail.com\",876543233],\n",
    "        [\"krish\",\"krish@gmail.com\",9876543]\n",
    "       ]"
   ]
  },
  {
   "cell_type": "code",
   "execution_count": 14,
   "id": "334f7d23-ccc6-42d5-8107-9997bcde1ebd",
   "metadata": {},
   "outputs": [],
   "source": [
    "with open(\"data.csv\",'w') as f :\n",
    "    writer = csv.writer(f)\n",
    "\n",
    "    for i in data:\n",
    "        writer.writerow(i)"
   ]
  },
  {
   "cell_type": "code",
   "execution_count": 16,
   "id": "5325d64e-db68-495b-825d-d03d15b27c14",
   "metadata": {},
   "outputs": [
    {
     "name": "stdout",
     "output_type": "stream",
     "text": [
      "['name', 'email_id', 'phone_number']\n",
      "[]\n",
      "['sudh', 'sudh@gmail.com', '876543233']\n",
      "[]\n",
      "['krish', 'krish@gmail.com', '9876543']\n",
      "[]\n"
     ]
    }
   ],
   "source": [
    "with open(\"data.csv\",'r') as f :\n",
    "    read_data = csv.reader(f)\n",
    "\n",
    "    for i in read_data:\n",
    "        print(i)"
   ]
  },
  {
   "cell_type": "markdown",
   "id": "ce729400-7185-489c-8a72-ddadbf30d9f3",
   "metadata": {},
   "source": [
    "BINARY DATA"
   ]
  },
  {
   "cell_type": "code",
   "execution_count": 20,
   "id": "8afef662-dc3f-4ef8-a895-00db8c944dd2",
   "metadata": {},
   "outputs": [],
   "source": [
    "with open(\"test4.bin\",'wb')as f :\n",
    "    f.write(b\"\\x01\\x02\\x03\\x3454235\")"
   ]
  },
  {
   "cell_type": "code",
   "execution_count": 21,
   "id": "692b5e16-98ff-44a8-b235-4e776224dab3",
   "metadata": {},
   "outputs": [
    {
     "name": "stdout",
     "output_type": "stream",
     "text": [
      "b'\\x01\\x02\\x03454235'\n"
     ]
    }
   ],
   "source": [
    "with open(\"test4.bin\",\"rb\") as f:\n",
    "    print(f.read())"
   ]
  },
  {
   "cell_type": "code",
   "execution_count": null,
   "id": "e2c82c64-aabf-4a97-9c30-acd60f29a586",
   "metadata": {},
   "outputs": [],
   "source": []
  }
 ],
 "metadata": {
  "kernelspec": {
   "display_name": "Python 3 (ipykernel)",
   "language": "python",
   "name": "python3"
  },
  "language_info": {
   "codemirror_mode": {
    "name": "ipython",
    "version": 3
   },
   "file_extension": ".py",
   "mimetype": "text/x-python",
   "name": "python",
   "nbconvert_exporter": "python",
   "pygments_lexer": "ipython3",
   "version": "3.12.6"
  }
 },
 "nbformat": 4,
 "nbformat_minor": 5
}
