{
 "cells": [
  {
   "cell_type": "code",
   "execution_count": 1,
   "id": "1cf98efd-39d1-4188-aae4-82ecff232dc1",
   "metadata": {},
   "outputs": [
    {
     "name": "stdout",
     "output_type": "stream",
     "text": [
      "this is my print\n"
     ]
    }
   ],
   "source": [
    "print(\"this is my print\")"
   ]
  },
  {
   "cell_type": "code",
   "execution_count": 2,
   "id": "0380121e-4d46-428a-9843-9300e0b5e74a",
   "metadata": {},
   "outputs": [],
   "source": [
    "import logging"
   ]
  },
  {
   "cell_type": "code",
   "execution_count": 3,
   "id": "59aebd78-72de-43f3-b6d2-bb662627272d",
   "metadata": {},
   "outputs": [],
   "source": [
    "logging.basicConfig(filename=\"test.log\",level=logging.INFO)"
   ]
  },
  {
   "cell_type": "code",
   "execution_count": 4,
   "id": "04d15b16-3dc7-48d7-833c-2a6bb90afc91",
   "metadata": {},
   "outputs": [],
   "source": [
    "logging .info(\"log this line of executation\")"
   ]
  },
  {
   "cell_type": "code",
   "execution_count": 5,
   "id": "c80c567a-e5e5-4e96-9a9a-a1a3f6714e16",
   "metadata": {},
   "outputs": [],
   "source": [
    "logging.info(\"this is my print\")"
   ]
  },
  {
   "cell_type": "code",
   "execution_count": 6,
   "id": "296e1101-8688-4909-be73-7349b083a18f",
   "metadata": {},
   "outputs": [],
   "source": [
    "logging.debug(\"this is my msg\")"
   ]
  },
  {
   "cell_type": "code",
   "execution_count": 8,
   "id": "61b8e2ae-aebc-486a-83e8-85fa27f6b0c9",
   "metadata": {},
   "outputs": [],
   "source": [
    "logging.warning(\"this is my wrning msg\")"
   ]
  },
  {
   "cell_type": "code",
   "execution_count": 9,
   "id": "0679edaf-6494-43c2-baec-5944066a974b",
   "metadata": {},
   "outputs": [],
   "source": [
    "logging.error(\"this is my error\")"
   ]
  },
  {
   "cell_type": "code",
   "execution_count": 10,
   "id": "53df03a8-69e7-4254-9756-6f97f6a25dee",
   "metadata": {},
   "outputs": [],
   "source": [
    "logging.critical(\"this is my critical msg\")"
   ]
  },
  {
   "cell_type": "code",
   "execution_count": null,
   "id": "53dce98c-ab36-4aa8-86b1-59ba5c2a8c0e",
   "metadata": {},
   "outputs": [],
   "source": []
  },
  {
   "cell_type": "markdown",
   "id": "fd1e7d6b-708d-4c5e-b668-bac1fd95c768",
   "metadata": {},
   "source": [
    "1. NOTSET\n",
    "2. DEBUG\n",
    "3. INFO\n",
    "4. WARNING\n",
    "5. ERROR\n",
    "6. CRITICAL"
   ]
  },
  {
   "cell_type": "code",
   "execution_count": 2,
   "id": "48d68f57-545d-4d80-bb4b-fcc59a056ea8",
   "metadata": {},
   "outputs": [],
   "source": [
    "import logging"
   ]
  },
  {
   "cell_type": "code",
   "execution_count": 2,
   "id": "160ae739-8b82-4ac7-80b5-589e1653fef8",
   "metadata": {},
   "outputs": [],
   "source": [
    "logging.basicConfig(filename=\"test1.log\",level=logging.DEBUG,format='%(asctime)s %(message)s')"
   ]
  },
  {
   "cell_type": "code",
   "execution_count": 3,
   "id": "45cd6dc5-3dc0-4e34-a834-4cf2657ca9d4",
   "metadata": {},
   "outputs": [],
   "source": [
    "logging.info(\"this is my info logging\")\n",
    "logging.error(\"this is my error msg\")\n",
    "logging.critical(\"this is my critical\")"
   ]
  },
  {
   "cell_type": "code",
   "execution_count": 3,
   "id": "3c836841-0bc7-4b88-a417-bcddc38beaef",
   "metadata": {},
   "outputs": [],
   "source": [
    "logging.shutdown()"
   ]
  },
  {
   "cell_type": "code",
   "execution_count": 34,
   "id": "beee0605-01d2-4f39-8596-11cf6340a7bd",
   "metadata": {},
   "outputs": [],
   "source": [
    "logging.basicConfig(filename=\"test2.log\",level=logging.DEBUG,format= '%(asctime)s %(name)s %(levelname)s %(message)s ')"
   ]
  },
  {
   "cell_type": "code",
   "execution_count": 35,
   "id": "41d97c4b-0902-4942-aa16-60339630a736",
   "metadata": {},
   "outputs": [],
   "source": [
    "logging.info(\"this is my info logging\")\n",
    "logging.error(\"this is my error msg\")\n",
    "logging.critical(\"this is my critical\")"
   ]
  },
  {
   "cell_type": "code",
   "execution_count": 36,
   "id": "c490462f-0916-4418-a055-ed042d7a0378",
   "metadata": {},
   "outputs": [],
   "source": [
    "l =[1,2,3,34,4,[2,3,4], \"sudh\", \"kumar\"]"
   ]
  },
  {
   "cell_type": "code",
   "execution_count": 37,
   "id": "3b9a15bd-730a-4484-b1d5-eea02d898503",
   "metadata": {},
   "outputs": [],
   "source": [
    "l1_int=[]\n",
    "l2_str=[]\n",
    "for i in l:\n",
    "    logging.info(\"we are iterating thorugh our list and local var is {}\" .format (l ))\n",
    "    if type(i ) == list:\n",
    "        logging.info(\"i am inside if statement and i am trying to list type\")\n",
    "        for j in i:\n",
    "            logging.info(\"i am in another for loop for list inside list element \")\n",
    "            if type(j)==int:\n",
    "                logging.info(\"i am inside if statement\")\n",
    "                l1_int.append(j)\n",
    "    elif type(i) == int:\n",
    "        l1_int.append(i)\n",
    "    else :\n",
    "        if type(i) == str :\n",
    "            l2_str.append(i)\n",
    "logging.info(\"my final result for int is {l1} and str is {l2}\".format(l1 =l1_int,l2=l2_str))            "
   ]
  },
  {
   "cell_type": "code",
   "execution_count": 27,
   "id": "5e2b59c5-fcd9-417b-afec-758f8a6f2911",
   "metadata": {},
   "outputs": [
    {
     "data": {
      "text/plain": [
       "[1, 2, 3, 34, 4, 2, 3, 4]"
      ]
     },
     "execution_count": 27,
     "metadata": {},
     "output_type": "execute_result"
    }
   ],
   "source": [
    "l1_int"
   ]
  },
  {
   "cell_type": "code",
   "execution_count": 15,
   "id": "84f16e0c-9dcd-48c8-b3cb-1c1629b6af74",
   "metadata": {},
   "outputs": [
    {
     "data": {
      "text/plain": [
       "['sudh', 'kumar']"
      ]
     },
     "execution_count": 15,
     "metadata": {},
     "output_type": "execute_result"
    }
   ],
   "source": [
    "l2_str"
   ]
  },
  {
   "cell_type": "code",
   "execution_count": null,
   "id": "bbff0240-a481-4650-8b53-f575ebac11bd",
   "metadata": {},
   "outputs": [],
   "source": []
  }
 ],
 "metadata": {
  "kernelspec": {
   "display_name": "Python 3 (ipykernel)",
   "language": "python",
   "name": "python3"
  },
  "language_info": {
   "codemirror_mode": {
    "name": "ipython",
    "version": 3
   },
   "file_extension": ".py",
   "mimetype": "text/x-python",
   "name": "python",
   "nbconvert_exporter": "python",
   "pygments_lexer": "ipython3",
   "version": "3.12.6"
  }
 },
 "nbformat": 4,
 "nbformat_minor": 5
}
