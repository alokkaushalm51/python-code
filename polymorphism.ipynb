{
 "cells": [
  {
   "cell_type": "markdown",
   "id": "292106b8-f4d3-457e-8257-d7510ef44356",
   "metadata": {},
   "source": [
    "What is Polymorphism: The word polymorphism means having many forms. \n",
    "In programming, polymorphism means the same function name (but different signatures) being used for different types \n",
    "poly means mulpitple morphism means different behaviour"
   ]
  },
  {
   "cell_type": "code",
   "execution_count": 1,
   "id": "472070f6-1812-4aa7-90ff-c98ed39a6403",
   "metadata": {},
   "outputs": [],
   "source": [
    "def test(a,b):\n",
    "    return a+b"
   ]
  },
  {
   "cell_type": "code",
   "execution_count": 2,
   "id": "48a5269b-790b-4d17-84dc-23b3b6fc4439",
   "metadata": {},
   "outputs": [
    {
     "data": {
      "text/plain": [
       "7"
      ]
     },
     "execution_count": 2,
     "metadata": {},
     "output_type": "execute_result"
    }
   ],
   "source": [
    "test(3,4)"
   ]
  },
  {
   "cell_type": "code",
   "execution_count": 4,
   "id": "f394dfa4-ab09-485b-9c71-24835ce04153",
   "metadata": {},
   "outputs": [
    {
     "data": {
      "text/plain": [
       "'sudh kumar'"
      ]
     },
     "execution_count": 4,
     "metadata": {},
     "output_type": "execute_result"
    }
   ],
   "source": [
    "#string=concatination operation\n",
    "\n",
    "test(\"sudh\",\" kumar\")"
   ]
  },
  {
   "cell_type": "code",
   "execution_count": 7,
   "id": "86642645-01dc-4c18-8170-d28dfc392167",
   "metadata": {},
   "outputs": [
    {
     "data": {
      "text/plain": [
       "[3, 4, 5, 333, 444, 555]"
      ]
     },
     "execution_count": 7,
     "metadata": {},
     "output_type": "execute_result"
    }
   ],
   "source": [
    "test([3,4,5],[333,444,555])"
   ]
  },
  {
   "cell_type": "code",
   "execution_count": 1,
   "id": "7be2840d-99ce-4ef4-8f50-e200f3a35a75",
   "metadata": {},
   "outputs": [],
   "source": [
    "class data_science:\n",
    "    def syllabus(self):\n",
    "        print(\"this is my syllabus for data science\")"
   ]
  },
  {
   "cell_type": "code",
   "execution_count": 4,
   "id": "abd443ac-cbde-4f88-8f77-2112f60d57da",
   "metadata": {},
   "outputs": [],
   "source": [
    "class web_dev:\n",
    "    def syllabus(self):\n",
    "        print(\"this is my syllabus for web_dev\")"
   ]
  },
  {
   "cell_type": "code",
   "execution_count": 3,
   "id": "6013e9da-cd22-442c-bef8-116e994f4373",
   "metadata": {},
   "outputs": [],
   "source": [
    "def class_parcer(class_obj):\n",
    "    for i in class_obj :\n",
    "        i.syllabus()"
   ]
  },
  {
   "cell_type": "code",
   "execution_count": 6,
   "id": "b73ca6d7-fd4a-42e0-86f3-1acd9056423d",
   "metadata": {},
   "outputs": [],
   "source": [
    "data_science=data_science()"
   ]
  },
  {
   "cell_type": "code",
   "execution_count": 7,
   "id": "ddf49e19-aa6c-4652-98c6-5a1e4634b577",
   "metadata": {},
   "outputs": [],
   "source": [
    "web_dev=web_dev()"
   ]
  },
  {
   "cell_type": "code",
   "execution_count": 8,
   "id": "88fc6ad7-0c09-4b95-ab81-08df0347385f",
   "metadata": {},
   "outputs": [],
   "source": [
    "class_obj=[data_science,web_dev]"
   ]
  },
  {
   "cell_type": "code",
   "execution_count": 9,
   "id": "cdb078c3-e72a-43d3-8c91-281551387b13",
   "metadata": {},
   "outputs": [
    {
     "name": "stdout",
     "output_type": "stream",
     "text": [
      "this is my syllabus for data science\n",
      "this is my syllabus for web_dev\n"
     ]
    }
   ],
   "source": [
    "class_parcer(class_obj)"
   ]
  },
  {
   "cell_type": "code",
   "execution_count": null,
   "id": "4f602d9a-d76b-40ce-8f1f-ccafd2ea6541",
   "metadata": {},
   "outputs": [],
   "source": []
  }
 ],
 "metadata": {
  "kernelspec": {
   "display_name": "Python 3 (ipykernel)",
   "language": "python",
   "name": "python3"
  },
  "language_info": {
   "codemirror_mode": {
    "name": "ipython",
    "version": 3
   },
   "file_extension": ".py",
   "mimetype": "text/x-python",
   "name": "python",
   "nbconvert_exporter": "python",
   "pygments_lexer": "ipython3",
   "version": "3.12.6"
  }
 },
 "nbformat": 4,
 "nbformat_minor": 5
}
