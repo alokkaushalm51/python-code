{
 "cells": [
  {
   "cell_type": "code",
   "execution_count": 1,
   "id": "8989f69b-8495-45fd-b5c9-a6c8fa2144b8",
   "metadata": {},
   "outputs": [],
   "source": [
    "f=open(\"test.txt\", 'w')"
   ]
  },
  {
   "cell_type": "code",
   "execution_count": 3,
   "id": "ea2e5733-dc58-40ea-94bc-2ff2bfb58e96",
   "metadata": {},
   "outputs": [
    {
     "data": {
      "text/plain": [
       "'C:\\\\Users\\\\DELL\\\\Desktop\\\\jupyter'"
      ]
     },
     "execution_count": 3,
     "metadata": {},
     "output_type": "execute_result"
    }
   ],
   "source": [
    "pwd"
   ]
  },
  {
   "cell_type": "code",
   "execution_count": 4,
   "id": "0cb34054-d7af-46f9-a9eb-fed2ee4416bb",
   "metadata": {},
   "outputs": [
    {
     "name": "stdout",
     "output_type": "stream",
     "text": [
      " Volume in drive C has no label.\n",
      " Volume Serial Number is 3839-79FF\n",
      "\n",
      " Directory of C:\\Users\\DELL\\Desktop\\jupyter\n",
      "\n",
      "03-10-2024  15:48             4,944  Inheritance.ipynb\n",
      "06-10-2024  17:55    <DIR>          .\n",
      "06-10-2024  17:55    <DIR>          ..\n",
      "06-10-2024  17:51    <DIR>          .ipynb_checkpoints\n",
      "03-10-2024  16:16             3,173 Abstract.ipynb\n",
      "04-10-2024  17:35            12,839 class method.ipynb\n",
      "04-10-2024  15:19             4,369 decorator.ipynb\n",
      "18-09-2024  18:44             3,867 elif.ipynb\n",
      "30-09-2024  16:46             7,458 encapsulation.ipynb\n",
      "21-09-2024  01:42            18,844 function.ipynb\n",
      "21-09-2024  02:31            10,380 gen function.ipynb\n",
      "18-09-2024  19:15            28,902 if else.ipynb\n",
      "21-09-2024  15:34             5,462 lambda fun.ipynb\n",
      "26-09-2024  16:45             8,004 Map,Reduce,Filter fun.ipynb\n",
      "03-10-2024  15:41    <DIR>          notes\n",
      "27-09-2024  00:07            10,350 OOPS.ipynb\n",
      "30-09-2024  15:36             4,165 polymorphism.ipynb\n",
      "06-10-2024  16:46             5,085 property decorators.ipynb\n",
      "27-09-2024  00:14    <DIR>          self_note\n",
      "05-10-2024  12:59             9,069 Special(Magic or dunder).ipynb\n",
      "05-10-2024  12:23             6,590 static method.ipynb\n",
      "06-10-2024  17:55                 0 test.txt\n",
      "18-09-2024  19:17             8,599 while loop.ipynb\n",
      "19-09-2024  18:50            13,493 while.ipynb\n",
      "06-10-2024  17:55               831 working with files.ipynb\n",
      "              20 File(s)        166,424 bytes\n",
      "               5 Dir(s)  150,600,638,464 bytes free\n"
     ]
    }
   ],
   "source": [
    "ls"
   ]
  },
  {
   "cell_type": "code",
   "execution_count": 6,
   "id": "a8ff65e7-2183-43f9-99a1-287b39d635c4",
   "metadata": {},
   "outputs": [
    {
     "name": "stdout",
     "output_type": "stream",
     "text": [
      "[WinError 2] The system cannot find the file specified: 'jupyter'\n",
      "C:\\Users\\DELL\\Desktop\\jupyter\n"
     ]
    }
   ],
   "source": [
    "cd jupyter"
   ]
  },
  {
   "cell_type": "code",
   "execution_count": 7,
   "id": "b1aa06e2-d6f3-4a5d-a81f-1c52becd9948",
   "metadata": {},
   "outputs": [
    {
     "name": "stdout",
     "output_type": "stream",
     "text": [
      " Volume in drive C has no label.\n",
      " Volume Serial Number is 3839-79FF\n",
      "\n",
      " Directory of C:\\Users\\DELL\\Desktop\\jupyter\n",
      "\n",
      "03-10-2024  15:48             4,944  Inheritance.ipynb\n",
      "06-10-2024  18:03    <DIR>          .\n",
      "06-10-2024  18:03    <DIR>          ..\n",
      "06-10-2024  17:51    <DIR>          .ipynb_checkpoints\n",
      "03-10-2024  16:16             3,173 Abstract.ipynb\n",
      "04-10-2024  17:35            12,839 class method.ipynb\n",
      "04-10-2024  15:19             4,369 decorator.ipynb\n",
      "18-09-2024  18:44             3,867 elif.ipynb\n",
      "30-09-2024  16:46             7,458 encapsulation.ipynb\n",
      "21-09-2024  01:42            18,844 function.ipynb\n",
      "21-09-2024  02:31            10,380 gen function.ipynb\n",
      "18-09-2024  19:15            28,902 if else.ipynb\n",
      "21-09-2024  15:34             5,462 lambda fun.ipynb\n",
      "26-09-2024  16:45             8,004 Map,Reduce,Filter fun.ipynb\n",
      "03-10-2024  15:41    <DIR>          notes\n",
      "27-09-2024  00:07            10,350 OOPS.ipynb\n",
      "30-09-2024  15:36             4,165 polymorphism.ipynb\n",
      "06-10-2024  16:46             5,085 property decorators.ipynb\n",
      "27-09-2024  00:14    <DIR>          self_note\n",
      "05-10-2024  12:59             9,069 Special(Magic or dunder).ipynb\n",
      "05-10-2024  12:23             6,590 static method.ipynb\n",
      "06-10-2024  17:55                 0 test.txt\n",
      "18-09-2024  19:17             8,599 while loop.ipynb\n",
      "19-09-2024  18:50            13,493 while.ipynb\n",
      "06-10-2024  18:03             3,721 working with files.ipynb\n",
      "              20 File(s)        169,314 bytes\n",
      "               5 Dir(s)  150,598,922,240 bytes free\n"
     ]
    }
   ],
   "source": [
    "ls"
   ]
  },
  {
   "cell_type": "code",
   "execution_count": 8,
   "id": "c6d5bbb3-66dc-410a-999f-eb04d9475b5e",
   "metadata": {},
   "outputs": [
    {
     "data": {
      "text/plain": [
       "29"
      ]
     },
     "execution_count": 8,
     "metadata": {},
     "output_type": "execute_result"
    }
   ],
   "source": [
    "f.write(\"this is my first fileto write\")"
   ]
  },
  {
   "cell_type": "code",
   "execution_count": 9,
   "id": "dc9cc552-071f-4b52-91da-700c779a564f",
   "metadata": {},
   "outputs": [],
   "source": [
    "f.close()"
   ]
  },
  {
   "cell_type": "code",
   "execution_count": null,
   "id": "3d809af7-e162-40fa-b4cb-ef1849abbdc1",
   "metadata": {},
   "outputs": [],
   "source": []
  }
 ],
 "metadata": {
  "kernelspec": {
   "display_name": "Python 3 (ipykernel)",
   "language": "python",
   "name": "python3"
  },
  "language_info": {
   "codemirror_mode": {
    "name": "ipython",
    "version": 3
   },
   "file_extension": ".py",
   "mimetype": "text/x-python",
   "name": "python",
   "nbconvert_exporter": "python",
   "pygments_lexer": "ipython3",
   "version": "3.12.6"
  }
 },
 "nbformat": 4,
 "nbformat_minor": 5
}
