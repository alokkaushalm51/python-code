{
 "cells": [
  {
   "cell_type": "code",
   "execution_count": 1,
   "id": "256bcd7e-af64-44d0-b4f1-60cdeb137e22",
   "metadata": {},
   "outputs": [],
   "source": [
    "f= open(\"test.text\", 'w')"
   ]
  },
  {
   "cell_type": "code",
   "execution_count": 2,
   "id": "fac0c1cf-89cd-4e4d-854e-b914d21e9521",
   "metadata": {},
   "outputs": [
    {
     "data": {
      "text/plain": [
       "'C:\\\\Users\\\\DELL\\\\Desktop\\\\jupyter\\\\notes'"
      ]
     },
     "execution_count": 2,
     "metadata": {},
     "output_type": "execute_result"
    }
   ],
   "source": [
    "pwd"
   ]
  },
  {
   "cell_type": "code",
   "execution_count": 3,
   "id": "828cb0e7-9cac-4ffb-8182-ad1ee785996a",
   "metadata": {},
   "outputs": [
    {
     "name": "stdout",
     "output_type": "stream",
     "text": [
      " Volume in drive C has no label.\n",
      " Volume Serial Number is 3839-79FF\n",
      "\n",
      " Directory of C:\\Users\\DELL\\Desktop\\jupyter\\notes\n",
      "\n",
      "06-10-2024  18:27    <DIR>          .\n",
      "06-10-2024  18:27    <DIR>          ..\n",
      "06-10-2024  18:26    <DIR>          .ipynb_checkpoints\n",
      "03-10-2024  15:41             3,026 Abstract class Hindi.ipynb\n",
      "26-09-2024  23:47             9,909 opps part 1 .ipynb\n",
      "06-10-2024  18:27                 0 test.text\n",
      "06-10-2024  18:26               337 Untitled.ipynb\n",
      "               4 File(s)         13,272 bytes\n",
      "               3 Dir(s)  150,584,991,744 bytes free\n"
     ]
    }
   ],
   "source": [
    "ls"
   ]
  },
  {
   "cell_type": "code",
   "execution_count": 4,
   "id": "a5477ca4-f6d9-4313-b0d6-f1c297c07dee",
   "metadata": {},
   "outputs": [
    {
     "name": "stdout",
     "output_type": "stream",
     "text": [
      "[WinError 2] The system cannot find the file specified: 'notes'\n",
      "C:\\Users\\DELL\\Desktop\\jupyter\\notes\n"
     ]
    },
    {
     "name": "stderr",
     "output_type": "stream",
     "text": [
      "C:\\Users\\DELL\\AppData\\Local\\Programs\\Python\\Python312\\Lib\\site-packages\\IPython\\core\\magics\\osm.py:393: UserWarning: This is now an optional IPython functionality, using bookmarks requires you to install the `pickleshare` library.\n",
      "  bkms = self.shell.db.get('bookmarks', {})\n"
     ]
    }
   ],
   "source": [
    "cd notes"
   ]
  },
  {
   "cell_type": "code",
   "execution_count": null,
   "id": "5f660eb5-149a-4815-8a6c-0d6aa02082e5",
   "metadata": {},
   "outputs": [],
   "source": []
  }
 ],
 "metadata": {
  "kernelspec": {
   "display_name": "Python 3 (ipykernel)",
   "language": "python",
   "name": "python3"
  },
  "language_info": {
   "codemirror_mode": {
    "name": "ipython",
    "version": 3
   },
   "file_extension": ".py",
   "mimetype": "text/x-python",
   "name": "python",
   "nbconvert_exporter": "python",
   "pygments_lexer": "ipython3",
   "version": "3.12.6"
  }
 },
 "nbformat": 4,
 "nbformat_minor": 5
}
