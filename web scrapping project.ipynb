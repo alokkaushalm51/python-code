{
 "cells": [
  {
   "cell_type": "code",
   "execution_count": null,
   "id": "a058fca2-eba6-4fec-bbf9-96e7212a23ee",
   "metadata": {},
   "outputs": [],
   "source": [
    "import requests\n",
    "import bs4 import BeautifulSoup as bs\n",
    "from urllib.request import urlopen as uReq\n",
    "import logging"
   ]
  }
 ],
 "metadata": {
  "kernelspec": {
   "display_name": "Python 3 (ipykernel)",
   "language": "python",
   "name": "python3"
  },
  "language_info": {
   "codemirror_mode": {
    "name": "ipython",
    "version": 3
   },
   "file_extension": ".py",
   "mimetype": "text/x-python",
   "name": "python",
   "nbconvert_exporter": "python",
   "pygments_lexer": "ipython3",
   "version": "3.12.6"
  }
 },
 "nbformat": 4,
 "nbformat_minor": 5
}
