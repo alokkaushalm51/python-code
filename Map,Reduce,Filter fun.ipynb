{
 "cells": [
  {
   "cell_type": "code",
   "execution_count": 9,
   "id": "2f9deda9-058b-4a54-b1d8-c7dc018d72cd",
   "metadata": {},
   "outputs": [],
   "source": [
    "l=[2,3,4,5,6]"
   ]
  },
  {
   "cell_type": "code",
   "execution_count": 10,
   "id": "ed44e10a-a6f4-47ed-99ba-2616720b9ab8",
   "metadata": {},
   "outputs": [],
   "source": [
    "def test(l):\n",
    "    l1 =[]\n",
    "    for i in l :\n",
    "        l1.append(i**2)\n",
    "    return l1"
   ]
  },
  {
   "cell_type": "code",
   "execution_count": 11,
   "id": "6c4f6258-c1b0-417f-bf70-eee3be1504cc",
   "metadata": {},
   "outputs": [
    {
     "data": {
      "text/plain": [
       "[4, 9, 16, 25, 36]"
      ]
     },
     "execution_count": 11,
     "metadata": {},
     "output_type": "execute_result"
    }
   ],
   "source": [
    "test(l)"
   ]
  },
  {
   "cell_type": "code",
   "execution_count": 12,
   "id": "d5862280-48e9-4ca9-a63a-f69f8796d7b6",
   "metadata": {},
   "outputs": [],
   "source": [
    "def sq(x):\n",
    "    return x**2"
   ]
  },
  {
   "cell_type": "code",
   "execution_count": 13,
   "id": "8fb7a17b-6d32-4333-8608-0be74ef770b6",
   "metadata": {},
   "outputs": [
    {
     "data": {
      "text/plain": [
       "[4, 9, 16, 25, 36]"
      ]
     },
     "execution_count": 13,
     "metadata": {},
     "output_type": "execute_result"
    }
   ],
   "source": [
    "list(map(sq,l))"
   ]
  },
  {
   "cell_type": "code",
   "execution_count": 15,
   "id": "6c89ea2c-471d-4fab-95cd-0bd576b67faa",
   "metadata": {},
   "outputs": [
    {
     "data": {
      "text/plain": [
       "[4, 9, 16, 25, 36]"
      ]
     },
     "execution_count": 15,
     "metadata": {},
     "output_type": "execute_result"
    }
   ],
   "source": [
    "list(map(lambda x : x**2,l))"
   ]
  },
  {
   "cell_type": "code",
   "execution_count": 16,
   "id": "dd5205d8-8d2c-4859-80ad-cc206c7322a5",
   "metadata": {},
   "outputs": [
    {
     "data": {
      "text/plain": [
       "[7, 9, 11, 13, 15]"
      ]
     },
     "execution_count": 16,
     "metadata": {},
     "output_type": "execute_result"
    }
   ],
   "source": [
    "l1=[1,2,3,4,5]\n",
    "l2=[6,7,8,9,10]\n",
    "\n",
    "list(map(lambda x,y:x+y,l1,l2))"
   ]
  },
  {
   "cell_type": "code",
   "execution_count": 17,
   "id": "a472eab6-7e04-4bb4-8829-31e81572d9be",
   "metadata": {},
   "outputs": [],
   "source": [
    "def add(x,y):\n",
    "    return x+y"
   ]
  },
  {
   "cell_type": "code",
   "execution_count": 18,
   "id": "1e6b559c-f9b4-4027-8b6d-9ebe59693be8",
   "metadata": {},
   "outputs": [
    {
     "data": {
      "text/plain": [
       "[7, 9, 11, 13, 15]"
      ]
     },
     "execution_count": 18,
     "metadata": {},
     "output_type": "execute_result"
    }
   ],
   "source": [
    "list(map(add,l1,l2))"
   ]
  },
  {
   "cell_type": "code",
   "execution_count": 4,
   "id": "15955c8e-4021-446b-813e-9f0b47b8e10d",
   "metadata": {},
   "outputs": [
    {
     "data": {
      "text/plain": [
       "['P', 'W', 'S', 'K', 'I', 'L', 'L', 'S']"
      ]
     },
     "execution_count": 4,
     "metadata": {},
     "output_type": "execute_result"
    }
   ],
   "source": [
    "s= \"pwskills\"\n",
    "list(map(lambda s : s.upper() ,s))"
   ]
  },
  {
   "cell_type": "code",
   "execution_count": 5,
   "id": "b4a897f8-3005-4a0b-a990-304bd5a0d3d2",
   "metadata": {},
   "outputs": [],
   "source": [
    "from functools import reduce"
   ]
  },
  {
   "cell_type": "code",
   "execution_count": 6,
   "id": "02cdbe08-b43a-43ca-884f-b503ae414a36",
   "metadata": {},
   "outputs": [],
   "source": [
    "l=[1,2,3,3,4,5]"
   ]
  },
  {
   "cell_type": "code",
   "execution_count": 7,
   "id": "c6bcf9ec-85bb-4a43-8a14-90990d00bb63",
   "metadata": {},
   "outputs": [
    {
     "data": {
      "text/plain": [
       "18"
      ]
     },
     "execution_count": 7,
     "metadata": {},
     "output_type": "execute_result"
    }
   ],
   "source": [
    "reduce(lambda x,y:x+y,l)"
   ]
  },
  {
   "cell_type": "code",
   "execution_count": 8,
   "id": "4c9c78ea-581d-4d94-bc27-1f6b8e11e4d2",
   "metadata": {},
   "outputs": [
    {
     "data": {
      "text/plain": [
       "1"
      ]
     },
     "execution_count": 8,
     "metadata": {},
     "output_type": "execute_result"
    }
   ],
   "source": [
    "reduce(lambda x,y:x+y,[1])"
   ]
  },
  {
   "cell_type": "code",
   "execution_count": 9,
   "id": "4b5d7016-5d5c-4f20-a16c-fb58336776ec",
   "metadata": {},
   "outputs": [
    {
     "data": {
      "text/plain": [
       "360"
      ]
     },
     "execution_count": 9,
     "metadata": {},
     "output_type": "execute_result"
    }
   ],
   "source": [
    "reduce(lambda x,y:x*y,l)"
   ]
  },
  {
   "cell_type": "code",
   "execution_count": 10,
   "id": "57b56518-3f34-4a43-80f0-d931a39d6fcb",
   "metadata": {},
   "outputs": [
    {
     "data": {
      "text/plain": [
       "[1, 2, 3, 3, 4, 5]"
      ]
     },
     "execution_count": 10,
     "metadata": {},
     "output_type": "execute_result"
    }
   ],
   "source": [
    "l"
   ]
  },
  {
   "cell_type": "code",
   "execution_count": 15,
   "id": "e952c0e8-7745-4be9-9ae0-1a40ade7d3d5",
   "metadata": {},
   "outputs": [
    {
     "data": {
      "text/plain": [
       "5"
      ]
     },
     "execution_count": 15,
     "metadata": {},
     "output_type": "execute_result"
    }
   ],
   "source": [
    "reduce(lambda x,y: x if x>y else y,l)"
   ]
  },
  {
   "cell_type": "code",
   "execution_count": 16,
   "id": "9ef2f150-1e1d-4eda-90fb-a54be93115d2",
   "metadata": {},
   "outputs": [
    {
     "data": {
      "text/plain": [
       "[1, 2, 3, 3, 4, 5]"
      ]
     },
     "execution_count": 16,
     "metadata": {},
     "output_type": "execute_result"
    }
   ],
   "source": [
    "l "
   ]
  },
  {
   "cell_type": "code",
   "execution_count": 18,
   "id": "f66ddf96-f3cd-4bd0-a1bb-d5576cfdde7f",
   "metadata": {},
   "outputs": [
    {
     "data": {
      "text/plain": [
       "[1, 3, 3, 5]"
      ]
     },
     "execution_count": 18,
     "metadata": {},
     "output_type": "execute_result"
    }
   ],
   "source": [
    "list(filter(lambda x:x%2 !=0,l))"
   ]
  },
  {
   "cell_type": "code",
   "execution_count": 19,
   "id": "3f4f506d-086a-4a63-9cfb-3b3246ca6ae4",
   "metadata": {},
   "outputs": [],
   "source": [
    "l1=[-3,4,5,6-1,-5]"
   ]
  },
  {
   "cell_type": "code",
   "execution_count": 20,
   "id": "7506becd-fbb8-4b90-b59b-e59a32e4f60c",
   "metadata": {},
   "outputs": [
    {
     "data": {
      "text/plain": [
       "[-3, -5]"
      ]
     },
     "execution_count": 20,
     "metadata": {},
     "output_type": "execute_result"
    }
   ],
   "source": [
    "list(filter(lambda x:x<0,l1))"
   ]
  },
  {
   "cell_type": "code",
   "execution_count": 21,
   "id": "eb145bc8-2b41-4d5c-819f-958e5acf31e2",
   "metadata": {},
   "outputs": [],
   "source": [
    "l2=[\"sudh\",\"pwskills\",\"kumar\",\"bengolare\",\"krish\"]"
   ]
  },
  {
   "cell_type": "code",
   "execution_count": 23,
   "id": "01fac776-fae0-4c97-af7d-7504b49dfbc0",
   "metadata": {},
   "outputs": [
    {
     "data": {
      "text/plain": [
       "['sudh', 'kumar', 'krish']"
      ]
     },
     "execution_count": 23,
     "metadata": {},
     "output_type": "execute_result"
    }
   ],
   "source": [
    "list(filter(lambda x:len(x)<6,l2))"
   ]
  },
  {
   "cell_type": "code",
   "execution_count": null,
   "id": "ecf12f76-0f76-4f43-9b66-9c85772811a3",
   "metadata": {},
   "outputs": [],
   "source": []
  }
 ],
 "metadata": {
  "kernelspec": {
   "display_name": "Python 3 (ipykernel)",
   "language": "python",
   "name": "python3"
  },
  "language_info": {
   "codemirror_mode": {
    "name": "ipython",
    "version": 3
   },
   "file_extension": ".py",
   "mimetype": "text/x-python",
   "name": "python",
   "nbconvert_exporter": "python",
   "pygments_lexer": "ipython3",
   "version": "3.12.6"
  }
 },
 "nbformat": 4,
 "nbformat_minor": 5
}
